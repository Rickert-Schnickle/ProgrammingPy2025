{
 "cells": [
  {
   "cell_type": "markdown",
   "metadata": {
    "collapsed": true,
    "pycharm": {
     "name": "#%% md\n"
    }
   },
   "source": [
    "# Test Exam\n",
    "\n",
    "Welcome to the test exam. It should give you a good idea of what the real exam will look like. So good luck! Hope it all will go well. :)"
   ]
  },
  {
   "cell_type": "markdown",
   "source": [
    "---\n",
    "[Question 1a] (10 points). The following function is supposed to receive a list with numbers and return this list without\n",
    "numbers higher than or equal to 10. For example `remove_numbers_higher_than_ten([1, 1, 32, 3, 5, 8, 10, 13, 21, 34, 55, 89])` returns\n",
    "`[1,1,3,5,8]`. But the function has 2 errors in it. Correct the code so that it can run as specified."
   ],
   "metadata": {
    "collapsed": false
   }
  },
  {
   "cell_type": "code",
   "execution_count": 3,
   "outputs": [
    {
     "name": "stdout",
     "output_type": "stream",
     "text": [
      "[1, 1, 3, 5, 8]\n"
     ]
    }
   ],
   "source": [
    "def remove_numbers_higher_than_ten(numbers):\n",
    "    output = [] ## This is changed from \"0\", an integer, to [], an empty list\n",
    "    for i in numbers:\n",
    "        if i < 10: ## This line needed a colon added to it\n",
    "            output.append(i) ## You cannot append numbers to an integer, append only works for lists\n",
    "    return output\n",
    "\n",
    "#Let's test to see if it works\n",
    "lownums = remove_numbers_higher_than_ten([1, 1, 32, 3, 5, 8, 10, 13, 21, 34, 55, 89])\n",
    "print(lownums)"
   ],
   "metadata": {
    "collapsed": false,
    "pycharm": {
     "name": "#%%\n"
    }
   }
  },
  {
   "cell_type": "markdown",
   "source": [
    "---\n",
    "[Question 1b] (10 points). The following function is supposed to receive a non-empty list of numbers, and return all the\n",
    "odd numbers in the list (that is: all the values that are odd). For example, `get_odd_numbers([1,3,4,7,2,9,11])` should\n",
    "return `[1,3,7,9,11]`. But the function is not working properly. Change the code so that it returns the correct value."
   ],
   "metadata": {
    "collapsed": false
   }
  },
  {
   "cell_type": "code",
   "execution_count": 5,
   "outputs": [
    {
     "name": "stdout",
     "output_type": "stream",
     "text": [
      "[1, 3, 7, 9, 11]\n"
     ]
    }
   ],
   "source": [
    "def get_odd_numbers(numbers):\n",
    "    oddNumbers = []\n",
    "    for i in numbers: ## This needs to be changed to just go through the list\n",
    "        if i % 2 !=0:\n",
    "            oddNumbers.append(i) ## And we can just append the number itself, rather than going for the location of the number\n",
    "    return oddNumbers\n",
    "\n",
    "## Let's test to see if it works\n",
    "oddnums = get_odd_numbers([1,3,4,7,2,9,11])\n",
    "print(oddnums)"
   ],
   "metadata": {
    "collapsed": false,
    "pycharm": {
     "name": "#%%\n"
    }
   }
  },
  {
   "cell_type": "markdown",
   "source": [
    "---\n",
    "[Question 2a] (10 points). The following function receives one parameter `json_file_name` which is the name of the JSON file\n",
    "that contains a list of words. It should return a string: the words in the JSON file together, separated by whitespaces,\n",
    "in the same order as they appear in the lexicon file."
   ],
   "metadata": {
    "collapsed": false
   }
  },
  {
   "cell_type": "code",
   "execution_count": 9,
   "outputs": [
    {
     "name": "stdout",
     "output_type": "stream",
     "text": [
      "hello this is the sentence hope you like it\n"
     ]
    }
   ],
   "source": [
    "import json\n",
    "\n",
    "def read_json(json_file_name):\n",
    "    #FILL-IN: open the input file ‘json_file_name’\n",
    "\t#FILL-IN: read the content of the file\n",
    "    with open(json_file_name, 'r') as f:\n",
    "        jsonfile = json.load(f)\n",
    "\n",
    "    #FILL-IN: return the string of the words, merged together\n",
    "    jsonstring = ' '.join(jsonfile)\n",
    "    return jsonstring\n",
    "\n",
    "## Let's test to see if it works\n",
    "jsonoutput = read_json(\"./SentenceJSON.json\")\n",
    "print(jsonoutput)"
   ],
   "metadata": {
    "collapsed": false,
    "pycharm": {
     "name": "#%%\n"
    }
   }
  },
  {
   "cell_type": "markdown",
   "source": [
    "For example, `read_json(\"./SentenceJSON.json\")` returns `\"hello this is the sentence hope you like it\"`\n",
    "\n",
    "---\n",
    "[Question 2b] (10 points). The following function receives one parameter `text_file_name` which is the name of the .txt file\n",
    "that contains words, each word is on a different line: they are separated by a newline. The function should return a string:\n",
    "the words in the .txt file, with the first letter of each word capitalized, and each letter separated by a comma rather than a newline.\n",
    "The output should be in the same order as they appear in the lexicon file."
   ],
   "metadata": {
    "collapsed": false
   }
  },
  {
   "cell_type": "code",
   "execution_count": 16,
   "outputs": [
    {
     "name": "stdout",
     "output_type": "stream",
     "text": [
      "These, Are, The, Words, We, Want\n"
     ]
    }
   ],
   "source": [
    "def read_text(text_file_name):\n",
    "    with open(text_file_name, 'r') as f:\n",
    "        textfilelist = f.readlines()\n",
    "\n",
    "    newtextfilelist = []\n",
    "    ## Go over the words in the original textfilelist and create a new list with modification\n",
    "    for word in textfilelist:\n",
    "        #First let's remove the newline\n",
    "        word = word.strip()\n",
    "        #Then capitalize it\n",
    "        word = word.capitalize()\n",
    "        #And append it to our new list\n",
    "        newtextfilelist.append(word)\n",
    "\n",
    "    #And now let's add comma's in between the words\n",
    "    newtextfilestring = ', '.join(newtextfilelist)\n",
    "\n",
    "    return newtextfilestring\n",
    "\n",
    "#Let's test this function out\n",
    "textoutput = read_text(\"./SentenceTXT.txt\")\n",
    "print(textoutput)"
   ],
   "metadata": {
    "collapsed": false,
    "pycharm": {
     "name": "#%%\n"
    }
   }
  },
  {
   "cell_type": "markdown",
   "source": [
    "For example, `read_text(\"./SentenceTXT.txt\")` returns `\"These, Are, The, Words, We, Want\"`\n",
    "\n",
    "---\n",
    "[Question 2c] (10 points). Wokkie Tokkie is a language game, originally from a Dutch TV show: https://www.youtube.com/watch?v=uQf88h1ludk .\n",
    "You translate words into a \"secret language\" using two rules.\n",
    "\n",
    "1) Vowels get translated to a number:\n",
    "\n",
    "- The \"a\" becomes `1`\n",
    "- The \"e\" becomes `2`\n",
    "- The \"i\" becomes `3`\n",
    "- The \"o\" becomes `4`\n",
    "- The \"u\" becomes `5`\n",
    "\n",
    "2) Consonants get `okkie` added to them, so:\n",
    "\n",
    "- \"b\" becomes `bokkie`\n",
    "- \"c\" becomes `cokkie`\n",
    "- \"d\" becomes `dokkie`\n",
    "- Etc.\n",
    "\n",
    "The following function receives one parameter `word`, which you can assume is a lowercase string. It returns the translation\n",
    "of the string into Wokkie Tokkie (with spaces between each \"letter\")"
   ],
   "metadata": {
    "collapsed": false
   }
  },
  {
   "cell_type": "code",
   "execution_count": 17,
   "outputs": [
    {
     "name": "stdout",
     "output_type": "stream",
     "text": [
      "hokkie 2 lokkie lokkie 4\n"
     ]
    }
   ],
   "source": [
    "def wokkie_tokkie(word):\n",
    "    #Let's create a dictionary we can use to translate the vowels\n",
    "    voweldict = {'a': '1', 'e': '2', 'i': '3', 'o': '4', 'u': '5'}\n",
    "\n",
    "    #Separate the word into separate characters\n",
    "    wordcharacters = list(word)\n",
    "\n",
    "    wokkietokkielist = []\n",
    "\n",
    "    #Go through the word, character by character, and we are going to add our translations to the list\n",
    "    for char in wordcharacters:\n",
    "        #If the character is a vowel, it should be in our voweldict\n",
    "        if char in voweldict:\n",
    "            #We will get the value corresponding with the key in the voweldict\n",
    "            voweltranslate = voweldict[char]\n",
    "            #And add it to the wokkietokkielist\n",
    "            wokkietokkielist.append(voweltranslate)\n",
    "        #If the character is not in our voweldict, it is a consonant\n",
    "        else:\n",
    "            #And we will create a new string that adds \"okkie\" to our consonant\n",
    "            consonanttranslate = char + 'okkie'\n",
    "            #And add it to the wokkietokkielist\n",
    "            wokkietokkielist.append(consonanttranslate)\n",
    "\n",
    "    #Join the list together\n",
    "    wokkietokkietranslate = ' '.join(wokkietokkielist)\n",
    "    return wokkietokkietranslate\n",
    "\n",
    "#And test it out\n",
    "translate = wokkie_tokkie(\"hello\")\n",
    "print(translate)"
   ],
   "metadata": {
    "collapsed": false,
    "pycharm": {
     "name": "#%%\n"
    }
   }
  },
  {
   "cell_type": "markdown",
   "source": [
    "For example, `wokkie_tokkie(\"hello\")` returns `\"hokkie 2 lokkie lokkie 4\"`\n",
    "\n",
    "---\n",
    "[Question 2d] (10 points). In bowling you will get 10 pins that you need to knock down. Normally\n",
    "the pins are grouped together in a reversed triangle, however this time all pins are placed\n",
    "next to each other, so a row of 10 pins. The following functions use two characters to\n",
    "represent the pins still standing `\"I\"` and the ones that are already knocked down `\".\"`.\n",
    "The following function receives two integers that represent the start to stop positions of the pins\n",
    "that were knocked down during one turn (include the start ánd the stop) and a list with\n",
    "characters that act as pins is provided in the function `['I', 'I', 'I', …, 'I']`. The start and stop position\n",
    "combined are the range of pins that are knocked down. It returns a list with the pins still\n",
    "standing `'I'` and with the ones that rolled over `'.'` (do not include any spaces).\n"
   ],
   "metadata": {
    "collapsed": false
   }
  },
  {
   "cell_type": "code",
   "execution_count": 25,
   "outputs": [
    {
     "name": "stdout",
     "output_type": "stream",
     "text": [
      "['I', '.', '.', '.', 'I', 'I', 'I', 'I', 'I', 'I']\n"
     ]
    }
   ],
   "source": [
    "def remove_pins(start,end):\n",
    "    pins = ['I', 'I', 'I', 'I', 'I', 'I', 'I', 'I', 'I', 'I']\n",
    "\n",
    "    ## Maybe a while loop could work here!\n",
    "    idx = 0\n",
    "    #Let's go over each pin by their index\n",
    "    while idx < len(pins):\n",
    "        #What we actually want when the start argument is 2, and end argument is 4, is that the real start is idx 1 (so the original start, minus one), and the real end is idx 3 (the original end, minus one)\n",
    "        #So if the index is between\n",
    "        if (idx >= start-1) and (idx <= end-1):\n",
    "            pins[idx] = '.'\n",
    "        idx += 1\n",
    "\n",
    "    return pins\n",
    "\n",
    "#Test it out\n",
    "newpins = remove_pins(2,4)\n",
    "print(newpins)"
   ],
   "metadata": {
    "collapsed": false,
    "pycharm": {
     "name": "#%%\n"
    }
   }
  },
  {
   "cell_type": "markdown",
   "source": [
    "For example, `remove_pins(2,4)` returns `['I', '.', '.', '.', 'I', 'I', 'I', 'I', 'I', 'I']`\n",
    "\n",
    "---\n",
    "[Question 2e] (10 points). Let's say you are going on a holiday. You are packing things, but have already packed some items.\n",
    "Therefore, you want to check if the items on your packing list are already packed or not. The following function receives a\n",
    "list with the luggage items and a list with already packed items and returns a dictionary containing all essentials you should bring as keys.\n",
    "The values are a Boolean value that tells you whether this item is already packed `True` (so whether it was in the already packed\n",
    "list) or if it is not `False` (so whether it is not in the already packed list)."
   ],
   "metadata": {
    "collapsed": false
   }
  },
  {
   "cell_type": "code",
   "execution_count": 26,
   "outputs": [
    {
     "name": "stdout",
     "output_type": "stream",
     "text": [
      "{'passport': False, 'boarding pass': False, 'phone': True, 'phone charger': False}\n"
     ]
    }
   ],
   "source": [
    "def check_packing_list(packinglist, alreadypacked):\n",
    "    #Let's start with an empty dictionary\n",
    "    packingdict = {}\n",
    "\n",
    "    #And go through each item in the packinglist\n",
    "    for pack in packinglist:\n",
    "        #If the item is in the alreadypacked list, we add it to our dictionary with the value True, else we add it with value False\n",
    "        if pack in alreadypacked:\n",
    "            packingdict[pack] = True\n",
    "        else:\n",
    "            packingdict[pack] = False\n",
    "\n",
    "    return packingdict\n",
    "\n",
    "packing_list = ['passport', 'boarding pass', 'phone', 'phone charger']\n",
    "already_packed = ['phone']\n",
    "\n",
    "checkpacking = check_packing_list(packing_list, already_packed)\n",
    "print(checkpacking)"
   ],
   "metadata": {
    "collapsed": false,
    "pycharm": {
     "name": "#%%\n"
    }
   }
  },
  {
   "cell_type": "markdown",
   "source": [
    "For example:\n",
    "\n",
    "`packing_list = ['passport', 'boarding pass', 'phone', 'phone charger']`<br>\n",
    "`already_packed = ['phone']`\n",
    "\n",
    "`check_packing_list(packing_list, already_packed)` returns `{'boarding pass': False, 'passport': False, 'phone': True, 'phone charger': False}`"
   ],
   "metadata": {
    "collapsed": false
   }
  }
 ],
 "metadata": {
  "kernelspec": {
   "display_name": "Python 3",
   "language": "python",
   "name": "python3"
  },
  "language_info": {
   "codemirror_mode": {
    "name": "ipython",
    "version": 2
   },
   "file_extension": ".py",
   "mimetype": "text/x-python",
   "name": "python",
   "nbconvert_exporter": "python",
   "pygments_lexer": "ipython2",
   "version": "2.7.6"
  }
 },
 "nbformat": 4,
 "nbformat_minor": 0
}
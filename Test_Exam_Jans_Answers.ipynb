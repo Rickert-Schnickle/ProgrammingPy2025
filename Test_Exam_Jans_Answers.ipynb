{
 "cells": [
  {
   "cell_type": "markdown",
   "metadata": {
    "collapsed": true,
    "jupyter": {
     "outputs_hidden": true
    },
    "pycharm": {
     "name": "#%% md\n"
    }
   },
   "source": [
    "# Test Exam\n",
    "\n",
    "Welcome to the test exam. It should give you a good idea of what the real exam will look like. So good luck! Hope it all will go well. :)"
   ]
  },
  {
   "cell_type": "markdown",
   "metadata": {
    "collapsed": false,
    "jupyter": {
     "outputs_hidden": false
    }
   },
   "source": [
    "---\n",
    "[Question 1a] (10 points). The following function is supposed to receive a list with numbers and return this list without\n",
    "numbers higher than or equal to 10. For example `remove_numbers_higher_than_ten([1, 1, 32, 3, 5, 8, 10, 13, 21, 34, 55, 89])` returns\n",
    "`[1,1,3,5,8]`. But the function has 2 errors in it. Correct the code so that it can run as specified."
   ]
  },
  {
   "cell_type": "code",
   "execution_count": 4,
   "metadata": {
    "collapsed": false,
    "jupyter": {
     "outputs_hidden": false
    },
    "pycharm": {
     "name": "#%%\n"
    }
   },
   "outputs": [
    {
     "data": {
      "text/plain": [
       "[1, 1, 3, 5, 8]"
      ]
     },
     "execution_count": 4,
     "metadata": {},
     "output_type": "execute_result"
    }
   ],
   "source": [
    "def remove_numbers_higher_than_ten(numbers):\n",
    "    output = []\n",
    "    for i in numbers:\n",
    "        if i < 10:\n",
    "            output.append(i)\n",
    "    return output\n",
    "\n",
    "remove_numbers_higher_than_ten([1, 1, 32, 3, 5, 8, 10, 13, 21, 34, 55, 89])"
   ]
  },
  {
   "cell_type": "markdown",
   "metadata": {
    "collapsed": false,
    "jupyter": {
     "outputs_hidden": false
    }
   },
   "source": [
    "---\n",
    "[Question 1b] (10 points). The following function is supposed to receive a non-empty list of numbers, and return all the\n",
    "odd numbers in the list (that is: all the values that are odd). For example, `get_odd_numbers([1,3,4,7,2,9,11])` should\n",
    "return `[1,3,7,9,11]`. But the function is not working properly. Change the code so that it returns the correct value."
   ]
  },
  {
   "cell_type": "code",
   "execution_count": 9,
   "metadata": {
    "collapsed": false,
    "jupyter": {
     "outputs_hidden": false
    },
    "pycharm": {
     "name": "#%%\n"
    }
   },
   "outputs": [
    {
     "data": {
      "text/plain": [
       "[1, 3, 7, 9, 11]"
      ]
     },
     "execution_count": 9,
     "metadata": {},
     "output_type": "execute_result"
    }
   ],
   "source": [
    "def get_odd_numbers(numbers):\n",
    "    oddNumbers = []\n",
    "    for i in numbers:\n",
    "        if i % 2 != 0:\n",
    "            oddNumbers.append(i)\n",
    "    return oddNumbers\n",
    "\n",
    "get_odd_numbers([1,3,4,7,2,9,11])"
   ]
  },
  {
   "cell_type": "markdown",
   "metadata": {
    "collapsed": false,
    "jupyter": {
     "outputs_hidden": false
    }
   },
   "source": [
    "---\n",
    "[Question 2a] (10 points). The following function receives one parameter `json_file_name` which is the name of the JSON file\n",
    "that contains a list of words. It should return a string: the words in the JSON file together, separated by whitespaces,\n",
    "in the same order as they appear in the lexicon file."
   ]
  },
  {
   "cell_type": "code",
   "execution_count": 12,
   "metadata": {
    "collapsed": false,
    "jupyter": {
     "outputs_hidden": false
    },
    "pycharm": {
     "name": "#%%\n"
    }
   },
   "outputs": [
    {
     "name": "stdout",
     "output_type": "stream",
     "text": [
      "hello this is the sentence hope you like it\n"
     ]
    }
   ],
   "source": [
    "#FILL-IN: open the input file ‘json_file_name’\n",
    "import json\n",
    "\n",
    "with open('./SentenceJSON.json', 'r') as infile:\n",
    "    #FILL-IN: read the content of the file\n",
    "    sentence_data = json.load(infile)\n",
    "    \n",
    "    sentence = ' '.join(sentence_data)\n",
    "    print(sentence)\n",
    "\n",
    "#FILL-IN: return the string of the words, merged together"
   ]
  },
  {
   "cell_type": "markdown",
   "metadata": {
    "collapsed": false,
    "jupyter": {
     "outputs_hidden": false
    }
   },
   "source": [
    "For example, `read_json(\"./SentenceJSON.json\")` returns `\"hello this is the sentence hope you like it\"`\n",
    "\n",
    "---\n",
    "[Question 2b] (10 points). The following function receives one parameter `text_file_name` which is the name of the .txt file\n",
    "that contains words, each word is on a different line: they are separated by a newline. The function should return a string:\n",
    "the words in the .txt file, with the first letter of each word capitalized, and each letter separated by a comma rather than a newline.\n",
    "The output should be in the same order as they appear in the lexicon file."
   ]
  },
  {
   "cell_type": "code",
   "execution_count": 22,
   "metadata": {
    "collapsed": false,
    "jupyter": {
     "outputs_hidden": false
    },
    "pycharm": {
     "name": "#%%\n"
    }
   },
   "outputs": [
    {
     "name": "stdout",
     "output_type": "stream",
     "text": [
      "These\n",
      "Are\n",
      "The\n",
      "Words\n",
      "We\n",
      "Want\n",
      "These, Are, The, Words, We, Want\n"
     ]
    }
   ],
   "source": [
    "#FILL-IN: open the input file ‘text_file_name’\n",
    "with open('./SentenceTXT.txt', mode='r') as f:\n",
    "    #FILL-IN: read the content of the file\n",
    "    words = f.readlines()\n",
    "    # NOTE: using f.read().splitlines() instead avoids having to replace \\n with empty strings!\n",
    "\n",
    "    fixedwords = []\n",
    "\n",
    "    for word in words:\n",
    "        nonewline = word.replace('\\n', '')\n",
    "        uppercase = nonewline.title() # nonewline[0].upper() + nonewline[1:]\n",
    "        print(uppercase)\n",
    "        fixedwords.append(uppercase)\n",
    "\n",
    "    #FILL-IN: return the string of the words, separated by a comma\n",
    "    out = ', '.join(fixedwords)\n",
    "    print(out)"
   ]
  },
  {
   "cell_type": "markdown",
   "metadata": {
    "collapsed": false,
    "jupyter": {
     "outputs_hidden": false
    }
   },
   "source": [
    "For example, `read_text(\"./SentenceTXT.txt\")` returns `\"These, Are, The, Words, We, Want\"`\n",
    "\n",
    "---\n",
    "[Question 2c] (10 points). Wokkie Tokkie is a language game, originally from a Dutch TV show: https://www.youtube.com/watch?v=uQf88h1ludk .\n",
    "You translate words into a \"secret language\" using two rules.\n",
    "\n",
    "1) Vowels get translated to a number:\n",
    "\n",
    "- The \"a\" becomes `1`\n",
    "- The \"e\" becomes `2`\n",
    "- The \"i\" becomes `3`\n",
    "- The \"o\" becomes `4`\n",
    "- The \"u\" becomes `5`\n",
    "\n",
    "2) Consonants get `okkie` added to them, so:\n",
    "\n",
    "- \"b\" becomes `bokkie`\n",
    "- \"c\" becomes `cokkie`\n",
    "- \"d\" becomes `dokkie`\n",
    "- Etc.\n",
    "\n",
    "The following function receives one parameter `word`, which you can assume is a lowercase string. It returns the translation\n",
    "of the string into Wokkie Tokkie (with spaces between each \"letter\")"
   ]
  },
  {
   "cell_type": "code",
   "execution_count": 3,
   "metadata": {
    "collapsed": false,
    "jupyter": {
     "outputs_hidden": false
    },
    "pycharm": {
     "name": "#%%\n"
    }
   },
   "outputs": [
    {
     "name": "stdout",
     "output_type": "stream",
     "text": [
      "hokkie 2 lokkie lokkie 4 \n"
     ]
    }
   ],
   "source": [
    "testvariable = \"hello\"      # The original string\n",
    "\n",
    "## Using a list might be slightly easier, for using 'join' at the end to add spaces.\n",
    "#wokkievariable = []         # The new variable we will use to copy into (because we cannot mutate strings)\n",
    "wokkievariable = \"\"         # The new variable we will use to copy into (because we cannot mutate strings)\n",
    "\n",
    "#vowels = \"aeiou\"            # A kind of 'look-up' string of vowels\n",
    "vowels = {'a': '1', 'e': '2', 'i': '3', 'o': '4', 'u': '5'}\n",
    "\n",
    "for character in testvariable: # Loop through the string, one character at a time\n",
    "    if character in vowels:\n",
    "        ## If you create the look-up dictionary above, this could work\n",
    "        #wokkievariable.append(vowels[character])\n",
    "        wokkievariable = wokkievariable + vowels[character] + ' '\n",
    "        \n",
    "        ## What could also work is a list of if-statements\n",
    "        # if character == 'a':\n",
    "        #     wokkievariable = wokkievariable + '1'\n",
    "        # elif character == 'e':\n",
    "        #     wokkievariable = wokkievariable + '2'\n",
    "        # ...\n",
    "    else:\n",
    "        ## If you create the look-up dictionary above, this could work\n",
    "        #wokkievariable.append(character + 'okkie')        \n",
    "        wokkievariable = wokkievariable + character + 'okkie '    \n",
    "\n",
    "## This version is slightly better because it doesn't have a space at the end\n",
    "#print(' '.join(wokkievariable))\n",
    "print(wokkievariable)\n",
    "\n",
    "\n",
    "#FILL-IN: separate the word per character\n",
    "#FILL-IN: translate the word into Wokkie Tokkie\n",
    "#FILL-IN: return the translated Wokkie Tokkie string"
   ]
  },
  {
   "cell_type": "markdown",
   "metadata": {
    "collapsed": false,
    "jupyter": {
     "outputs_hidden": false
    }
   },
   "source": [
    "For example, `wokkie_tokkie(\"hello\")` returns `\"hokkie 2 lokkie lokkie 4\"`\n",
    "\n",
    "---\n",
    "[Question 2d] (10 points). In bowling you will get 10 pins that you need to knock down. Normally\n",
    "the pins are grouped together in a reversed triangle, however this time all pins are placed\n",
    "next to each other, so a row of 10 pins. The following functions use two characters to\n",
    "represent the pins still standing `\"I\"` and the ones that are already knocked down `\".\"`.\n",
    "The following function receives two integers that represent the start to stop positions of the pins\n",
    "that were knocked down during one turn (include the start ánd the stop) and a list with\n",
    "characters that act as pins is provided in the function `['I', 'I', 'I', …, 'I']`. The start and stop position\n",
    "combined are the range of pins that are knocked down. It returns a list with the pins still\n",
    "standing `'I'` and with the ones that rolled over `'.'` (do not include any spaces).\n"
   ]
  },
  {
   "cell_type": "code",
   "execution_count": 7,
   "metadata": {
    "collapsed": false,
    "jupyter": {
     "outputs_hidden": false
    },
    "pycharm": {
     "name": "#%%\n"
    }
   },
   "outputs": [
    {
     "name": "stdout",
     "output_type": "stream",
     "text": [
      "2\n",
      "3\n",
      "4\n"
     ]
    },
    {
     "data": {
      "text/plain": [
       "['I', '.', '.', '.', 'I', 'I', 'I', 'I', 'I', 'I']"
      ]
     },
     "execution_count": 7,
     "metadata": {},
     "output_type": "execute_result"
    }
   ],
   "source": [
    "def remove_pins(start,end):\n",
    "    pins = ['I', 'I', 'I', 'I', 'I', 'I', 'I', 'I', 'I', 'I']\n",
    "    # FILL-IN: get the subset of relevant elements in the list\n",
    "    for i in range(start, end+1):\n",
    "        print(i)\n",
    "        # FILL-IN: replace them by '.'\n",
    "        pins[i-1] = '.'    \n",
    "\n",
    "    # FILL-IN: return a list with the pins that are still standing or knocked down.\n",
    "    return pins\n",
    "\n",
    "## Alternative version with different shift in indices\n",
    "# def remove_pins(start,end):\n",
    "#     pins = ['I', 'I', 'I', 'I', 'I', 'I', 'I', 'I', 'I', 'I']\n",
    "#     # FILL-IN: get the subset of relevant elements in the list\n",
    "#     for i in range(start-1, end):\n",
    "#         print(i)\n",
    "#         # FILL-IN: replace them by '.'\n",
    "#         pins[i] = '.'    \n",
    "\n",
    "#     # FILL-IN: return a list with the pins that are still standing or knocked down.\n",
    "#     return pins\n",
    "\n",
    "remove_pins(2, 4)"
   ]
  },
  {
   "cell_type": "markdown",
   "metadata": {
    "collapsed": false,
    "jupyter": {
     "outputs_hidden": false
    }
   },
   "source": [
    "For example, `remove_pins(2,4)` returns `['I', '.', '.', '.', 'I', 'I', 'I', 'I', 'I', 'I']`\n",
    "\n",
    "---\n",
    "[Question 2e] (10 points). Let's say you are going on a holiday. You are packing things, but have already packed some items.\n",
    "Therefore, you want to check if the items on your packing list are already packed or not. The following function receives a\n",
    "list with the luggage items and a list with already packed items and returns a dictionary containing all essentials you should bring as keys.\n",
    "The values are a Boolean value that tells you whether this item is already packed `True` (so whether it was in the already packed\n",
    "list) or if it is not `False` (so whether it is not in the already packed list)."
   ]
  },
  {
   "cell_type": "code",
   "execution_count": 51,
   "metadata": {
    "collapsed": false,
    "jupyter": {
     "outputs_hidden": false
    },
    "pycharm": {
     "name": "#%%\n"
    }
   },
   "outputs": [
    {
     "name": "stdout",
     "output_type": "stream",
     "text": [
      "{'passport': False, 'boarding pass': True, 'phone': True, 'phone charger': False}\n"
     ]
    }
   ],
   "source": [
    "packing_list = ['passport', 'boarding pass', 'phone', 'phone charger', 'boarding pass']\n",
    "already_packed = ['phone', 'boarding pass']\n",
    "output = {}\n",
    "\n",
    "#FILL-IN: go through all the items in the packinglist\n",
    "for item in packing_list:\n",
    "    #FILL-IN: check if the items are on the alreadypacked list or not\n",
    "    #output[item] = item in already_packed\n",
    "    if item in already_packed:\n",
    "        output[item] = True\n",
    "    else:\n",
    "        output[item] = False\n",
    "\n",
    "    #FILL-IN: return a dictionary with the luggage items as key and the Boolean value whether it has been packed as its value.\n",
    "\n",
    "print(output)"
   ]
  },
  {
   "cell_type": "markdown",
   "metadata": {
    "collapsed": false,
    "jupyter": {
     "outputs_hidden": false
    }
   },
   "source": [
    "For example:\n",
    "\n",
    "`packing_list = ['passport', 'boarding pass', 'phone', 'phone charger']`<br>\n",
    "`already_packed = ['phone']`\n",
    "\n",
    "`check_packing_list(packing_list, already_packed)` returns `{'boarding pass': False, 'passport': False, 'phone': True, 'phone charger': False}`"
   ]
  }
 ],
 "metadata": {
  "kernelspec": {
   "display_name": "Python 3 (ipykernel)",
   "language": "python",
   "name": "python3"
  },
  "language_info": {
   "codemirror_mode": {
    "name": "ipython",
    "version": 3
   },
   "file_extension": ".py",
   "mimetype": "text/x-python",
   "name": "python",
   "nbconvert_exporter": "python",
   "pygments_lexer": "ipython3",
   "version": "3.12.3"
  }
 },
 "nbformat": 4,
 "nbformat_minor": 4
}

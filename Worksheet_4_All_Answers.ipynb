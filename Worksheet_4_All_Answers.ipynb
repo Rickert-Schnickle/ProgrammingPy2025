{
 "cells": [
  {
   "cell_type": "markdown",
   "metadata": {
    "collapsed": false,
    "jupyter": {
     "outputs_hidden": false
    }
   },
   "source": [
    "# Worksheet 4: Texts and Movie Synopses"
   ]
  },
  {
   "cell_type": "markdown",
   "metadata": {
    "collapsed": false,
    "jupyter": {
     "outputs_hidden": false
    }
   },
   "source": [
    "Remember: Google is your friend! Functions are explained in more detail (amongst others) on the Python website, and the website \"Stackoverflow.com\" probably has the answer to all your issues. So if you add \"site:stackoverflow.com\" to your Google query, you should be able to find someone who was experiencing a similar issue, and the way to solve it. Also, you can try to see if you get helpful code with ChatGPT. And you can also ask ChatGPT to try and explain a piece of code for you. This could be helpful as well.\n",
    "&nbsp;\n",
    "&nbsp;\n",
    "\n",
    "-------------------------------\n",
    "&nbsp;\n",
    "Well, with the end of all sports events and other events, it is time to start looking further ahead. And \"Award Season\" is coming up. That is, the time each year when all the movie, TV show, and music awards ceremonies take place. So this week we are going to work with movie and music data.\n",
    "&nbsp;\n",
    "&nbsp;\n",
    "\n",
    "-------------------------------\n",
    "&nbsp;\n",
    "For this week's assignment, you can find 2 text files on Canvas Modules. **Download these text files and put them in the same folder as this Worksheet**.\n",
    "\n",
    "The text files contain short synopses about the 10 movies that have been nominated for the Best Picture Oscar. During this worksheet, we will work on opening text files in Python, modifying them, and saving (string) information as a text file. We have also discussed most of this during the lecture, but we'll take an extra look at this with the code blocks. Furthermore, for the modification of the text files, we are going to be using what we have learned during the previous lectures and worksheets.\n",
    "\n",
    "First, let's just take a look at how we should open files."
   ]
  },
  {
   "cell_type": "markdown",
   "metadata": {
    "collapsed": false,
    "jupyter": {
     "outputs_hidden": false
    }
   },
   "source": [
    "## Opening and Closing Files\n",
    "\n",
    "Opening and closing files in Python is one of the default functions that are built into the language. You do not need to import any external modules. There are roughly to ways to open a file: using `with` or not using `with`. I personally prefer using `with` as it gives me one less opportunity to do things wrong. You can try to rewrite this code block to read the content of the *Barbie.txt* file without using `with`: what is the biggest difference? What do you prefer?"
   ]
  },
  {
   "cell_type": "code",
   "execution_count": 1,
   "metadata": {
    "collapsed": false,
    "jupyter": {
     "outputs_hidden": false
    },
    "pycharm": {
     "is_executing": true
    }
   },
   "outputs": [
    {
     "name": "stdout",
     "output_type": "stream",
     "text": [
      "Barbie and Ken are having the time of their lives in the colorful and seemingly perfect world of Barbie Land. However, when they get a chance to go to the real world, they soon discover the joys and perils of living among humans.\n"
     ]
    }
   ],
   "source": [
    "## Code block 1: Opening a text file\n",
    "\n",
    "# I just chose the best picture movie with the shortest title because I feel a bit lazy today\n",
    "with open('./Movies/Barbie.txt', mode='r') as f:\n",
    "    synopsis = f.read()\n",
    "\n",
    "print(synopsis)\n"
   ]
  },
  {
   "cell_type": "markdown",
   "metadata": {
    "collapsed": false,
    "jupyter": {
     "outputs_hidden": false
    }
   },
   "source": [
    "Alright, this works! The `f.read()` function is the easiest way to just read a whole text as one single string. However, in some cases, our .txt files are basically a collection of multiple texts that are all represented on their own individual line. That is a common way of storing information in .txt files. For that, we could try a different function: the `f.readlines()` function."
   ]
  },
  {
   "cell_type": "code",
   "execution_count": 3,
   "metadata": {
    "collapsed": false,
    "jupyter": {
     "outputs_hidden": false
    },
    "pycharm": {
     "is_executing": true
    }
   },
   "outputs": [
    {
     "name": "stdout",
     "output_type": "stream",
     "text": [
      "[\"A novelist who's fed up with the establishment profiting from Black entertainment uses a pen name to write a book that propels him into the heart of the hypocrisy and madness he claims to disdain.\\n\", \"A woman is suspected of murder after her husband's death; their half-blind son faces a moral dilemma as the main witness.\\n\", 'Barbie and Ken are having the time of their lives in the colorful and seemingly perfect world of Barbie Land. However, when they get a chance to go to the real world, they soon discover the joys and perils of living among humans.\\n', 'When oil is discovered in 1920s Oklahoma under Osage Nation land, the Osage people are murdered one by one - until the FBI steps in to unravel the mystery.\\n', 'This love story chronicles the lifelong relationship of conductor-composer Leonard Bernstein and actress Felicia Montealegre Cohn Bernstein.\\n', 'The story of American scientist J. Robert Oppenheimer and his role in the development of the atomic bomb.\\n', \"Nora and Hae Sung, two deeply connected childhood friends, are wrested apart after Nora's family emigrates from South Korea. Twenty years later, they are reunited for one fateful week as they confront notions of love and destiny.\\n\", 'The incredible tale about the fantastical evolution of Bella Baxter, a young woman brought back to life by the brilliant and unorthodox scientist Dr. Godwin Baxter.\\n', 'A cranky history teacher at a remote prep school is forced to remain on campus over the holidays with a grieving cook and a troubled student who has no place to go.\\n', 'Auschwitz commandant Rudolf Höss and his wife Hedwig strive to build a dream life for their family in a house and garden beside the camp.']\n"
     ]
    }
   ],
   "source": [
    "## Code block 2: Opening a text file (part 2)\n",
    "\n",
    "#The All_Movies.txt file contains the synopses of all 10 best picture nominees.\n",
    "with open('./Movies/All_Movies.txt', mode='r') as f:\n",
    "    synopsis = f.readlines()\n",
    "\n",
    "print(synopsis)"
   ]
  },
  {
   "cell_type": "markdown",
   "metadata": {
    "collapsed": false,
    "jupyter": {
     "outputs_hidden": false
    }
   },
   "source": [
    "This is looking close to the way that we want to split the file up. We get a list where every item in the list is one line (or: a single movie synopsis). But, if we are very critical, every element ends with `'\\n'`, we have seen in the previous lecture that this is a symbol that marks a newline. This makes sense, as we have put all these synopses on new lines. But we might want to remove it first when we are going to modify data. How do we do this?"
   ]
  },
  {
   "cell_type": "code",
   "execution_count": 5,
   "metadata": {
    "collapsed": false,
    "jupyter": {
     "outputs_hidden": false
    },
    "pycharm": {
     "is_executing": true
    }
   },
   "outputs": [
    {
     "name": "stdout",
     "output_type": "stream",
     "text": [
      "[\"A novelist who's fed up with the establishment profiting from Black entertainment uses a pen name to write a book that propels him into the heart of the hypocrisy and madness he claims to disdain.\", \"A woman is suspected of murder after her husband's death; their half-blind son faces a moral dilemma as the main witness.\", 'Barbie and Ken are having the time of their lives in the colorful and seemingly perfect world of Barbie Land. However, when they get a chance to go to the real world, they soon discover the joys and perils of living among humans.', 'When oil is discovered in 1920s Oklahoma under Osage Nation land, the Osage people are murdered one by one - until the FBI steps in to unravel the mystery.', 'This love story chronicles the lifelong relationship of conductor-composer Leonard Bernstein and actress Felicia Montealegre Cohn Bernstein.', 'The story of American scientist J. Robert Oppenheimer and his role in the development of the atomic bomb.', \"Nora and Hae Sung, two deeply connected childhood friends, are wrested apart after Nora's family emigrates from South Korea. Twenty years later, they are reunited for one fateful week as they confront notions of love and destiny.\", 'The incredible tale about the fantastical evolution of Bella Baxter, a young woman brought back to life by the brilliant and unorthodox scientist Dr. Godwin Baxter.', 'A cranky history teacher at a remote prep school is forced to remain on campus over the holidays with a grieving cook and a troubled student who has no place to go.', 'Auschwitz commandant Rudolf Höss and his wife Hedwig strive to build a dream life for their family in a house and garden beside the camp.']\n"
     ]
    }
   ],
   "source": [
    "## Code block 3: Opening a text file (part 3)\n",
    "\n",
    "#The All_Movies.txt file contains the synopses of all 10 best picture nominees.\n",
    "with open('./Movies/All_Movies.txt', mode='r') as f:\n",
    "    synopsis = f.read().splitlines()\n",
    "\n",
    "print(synopsis)"
   ]
  },
  {
   "cell_type": "markdown",
   "metadata": {
    "collapsed": false,
    "jupyter": {
     "outputs_hidden": false
    }
   },
   "source": [
    "Perfect, by adding `.splitlines()` to the `.read()` function, we can now capture the texts in a list the way that we want it. Every item in the list is now a synopsis, without the newline symbols distracting us. Now, let's take a look at writing a string to a .txt file."
   ]
  },
  {
   "cell_type": "code",
   "execution_count": 141,
   "metadata": {
    "collapsed": false,
    "jupyter": {
     "outputs_hidden": false
    }
   },
   "outputs": [],
   "source": [
    "## Code block 4: Writing a text file\n",
    "\n",
    "oscartype = 'Best Picture nominees'\n",
    "#Write the string to a text file in the same folder as the worksheet.\n",
    "with open('./Movies/Oscar_Type.txt', mode='w') as f:\n",
    "    f.write(oscartype)\n"
   ]
  },
  {
   "cell_type": "markdown",
   "metadata": {
    "collapsed": false,
    "jupyter": {
     "outputs_hidden": false
    }
   },
   "source": [
    "It is good to pay special attention to the `\"mode\"` attribute here. As mentioned in the lectures, `mode` specifies the ways in which we want to work with a file. When you want to only read a file, you use `mode='r'`. When you only want to write a file, you use `mode='w'`. Those modes are generally the most frequent ones you use. You can also use `mode='r+'` for both reading and writing, but I generally advice against using that. At least, if you are like me and sometimes make mistakes, you do not want to risk accidentally saving over a file that should have just been read."
   ]
  },
  {
   "cell_type": "markdown",
   "metadata": {
    "collapsed": false,
    "jupyter": {
     "outputs_hidden": false
    }
   },
   "source": [
    "**[Exercise 1]** The `All_Movies.txt` file contains all the Best Picture nominees for this year. But let's be honest, that's not close to the actual best picture ever made: Bee Movie. Let's add the synopsis of [Bee Movie](https://www.imdb.com/title/tt0389790/) to the other synopses in `All_Movies.txt`. Now we have real quality in there. So, in steps, I want you to do the following:\n",
    "\n",
    "1. Load the synopses from the `All_Movies.txt` file.\n",
    "2. Add the Bee Movie synopsis to the synopses.\n",
    "3. Save the new synopses as `Best_Movies.txt`.\n",
    "\n",
    "Make sure that the Bee Movie synopsis is saved on a separate line (just like all the other synopses should be on separate lines).\n",
    "\n",
    "Hint 1: Check out the [List of File Methods](https://www.w3schools.com/python/python_ref_file.asp) to see if there is a good write function for your purpose.\n",
    "Hint 2: If you don't want to look up all the information on the Bee Movie, first of all, shame on you. But also, the synopsis is: `\"Barry B. Benson, a bee just graduated from college, is disillusioned at his lone career choice: making honey. On a special trip outside the hive, Barry's life is saved by Vanessa, a florist in New York City. As their relationship blossoms, he discovers humans actually eat honey and subsequently decides to sue them.\"`"
   ]
  },
  {
   "cell_type": "code",
   "execution_count": 24,
   "metadata": {
    "collapsed": false,
    "jupyter": {
     "outputs_hidden": false
    }
   },
   "outputs": [
    {
     "name": "stdout",
     "output_type": "stream",
     "text": [
      "10\n",
      "11\n"
     ]
    }
   ],
   "source": [
    "## Exercise 1: Adding Bee Movie to the best picture nominees.\n",
    "\n",
    "# The first part I copied from Code block 3 above, opening the list of synopses and turning that into a list,\n",
    "# where each item represents one movie synopsis.\n",
    "with open('./Movies/All_Movies.txt', mode='r') as f:\n",
    "    synopsis = f.read().splitlines()\n",
    "    print(len(synopsis))\n",
    "\n",
    "    beemovie = \"Barry B. Benson, a bee just graduated from college, is disillusioned at his lone career choice: making honey. On a special trip outside the hive, Barry's life is saved by Vanessa, a florist in New York City. As their relationship blossoms, he discovers humans actually eat honey and subsequently decides to sue them.\"\n",
    "\n",
    "    # Now I add to this list the new synopsis listed above:\n",
    "    synopsis.append(beemovie)\n",
    "    print(len(synopsis))\n",
    "\n",
    "    # And then, using the code from Code block 4, I can write the new list to another file.\n",
    "    # Note that I use the join function here that we talked about previously, to turn the list back into one text.\n",
    "    # I use the \\n special character (= newline) to make sure that each synopsis gets a separate line in the text file.\n",
    "\n",
    "    with open('./Movies/Best_Movies.txt', mode='w') as f2:\n",
    "        f2.write(\"\\n\".join(synopsis))"
   ]
  },
  {
   "cell_type": "markdown",
   "metadata": {
    "collapsed": false,
    "jupyter": {
     "outputs_hidden": false
    }
   },
   "source": [
    "**[Exercise 2]** Let's try to capture the longest word in the whole `All_Movies.txt` file. Write a script that identifies the longest word(s) in a file. Your program should print the length of the longest word, along with all of the words of that length that are in the `All_Movies.txt` file. Treat any group of non-white space characters as a word, even if it includes digits or punctuation marks. The output should look like:\n",
    "\n",
    "`The longest word(s) is/are [X] characters long. The words of this size is/are: [Y], [Z], [V], [W]`\n",
    "\n",
    "Hint: check out the `.join()` and `len()` functions for this exercise.\n",
    "\n",
    "**[Bonus Exercise 1]** Add more statistics such as\n",
    "- the length of the synopsis\n",
    "- the number of unique words in the whole file\n",
    "- shortest word\n",
    "- average word length\n",
    "- average sentence length\n",
    "- top 10 most frequent words (with their frequency)\n",
    "\n",
    "**[Bonus Exercise 2]** Can you put the collected data into a visual graph? You need to install a library yourself to do this (called Matplotlib).\n",
    "Take a look at these websites for instance: [https://datatofish.com/line-chart-python-matplotlib/](https://datatofish.com/line-chart-python-matplotlib/) and [https://www.tutorialspoint.com/matplotlib/matplotlib_bar_plot.htm](https://www.tutorialspoint.com/matplotlib/matplotlib_bar_plot.htm)."
   ]
  },
  {
   "cell_type": "code",
   "execution_count": 120,
   "metadata": {
    "collapsed": false,
    "jupyter": {
     "outputs_hidden": false
    },
    "pycharm": {
     "is_executing": true
    }
   },
   "outputs": [
    {
     "name": "stdout",
     "output_type": "stream",
     "text": [
      "The longest word(s) is/are 18 characters long. The words of this size is/are: conductor-composer\n",
      "Length of the synopses: [196, 121, 229, 155, 140, 105, 229, 164, 164, 137] characters\n",
      "Number of unique words in the whole file: 192\n",
      "Shortest word: A\n",
      "Average word length: 4.830388692579505 characters\n",
      "Average sentence length: 23.583333333333332 words\n",
      "\n",
      "Ten most frequent words: \n",
      "the: 20 times\n",
      "a: 13 times\n",
      "and: 12 times\n",
      "of: 10 times\n",
      "to: 9 times\n",
      "in: 5 times\n",
      "are: 4 times\n",
      "they: 4 times\n",
      "is: 3 times\n",
      "their: 3 times\n"
     ]
    }
   ],
   "source": [
    "## Exercise 2: Longest word\n",
    "import re\n",
    "\n",
    "# I start by creating the variables we will need in order to output the sentence that is asked for.\n",
    "longest_length = 0 # The length of the longest word we found so far -- this is updated along the way\n",
    "longest_words = [] # A list of all the words that are of the longest_length\n",
    "\n",
    "# Open the file\n",
    "with open('./Movies/All_Movies.txt', mode='r') as f:\n",
    "    # Read each synopsis as an item in a list\n",
    "    # Note: simply using read() might also work here, because we don't really care which synopsis the longest word belongs to,\n",
    "    # but this version is perhaps a bit clearer and it provides a stronger basis for Bonus Exercise 1.\n",
    "    synopsis = f.read().splitlines()\n",
    "\n",
    "    # Go through each line and split it into words\n",
    "    for syn in synopsis:\n",
    "        words = syn.split() # Split each line/synopsis into words (from an earlier worksheet)\n",
    "\n",
    "        # Go through each word and check its length\n",
    "        for word in words:\n",
    "            # If this word is longer than the longest length that we have found so far,\n",
    "            # we update this longest length, and we empty the list of words found.\n",
    "            wordlength = len(word)\n",
    "            if wordlength > longest_length:\n",
    "                # Set the longest_length to the new record holder\n",
    "                longest_length = wordlength\n",
    "\n",
    "                # Empty the list of longest words by resetting it to only contain our new record holder\n",
    "                longest_words = [word]\n",
    "\n",
    "print(f'The longest word(s) is/are {longest_length} characters long. The words of this size is/are: {', '.join(longest_words)}')\n",
    "                \n",
    "\n",
    "## Bonus Exercise 1\n",
    "\n",
    "# Again, creating the variables we will need to keep track of, including the expected outputs and some 'helper' (temporary) variables\n",
    "synopsis_lengths = []    # the length of the synopses\n",
    "word_frequencies = {}    # top 10 most frequent words (with their frequency), and for getting the number of unique words in the whole file\n",
    "shortest_word_len = 1000 # the shortest word in the file, initialized to a very large number so we will definitely encounter shorter ones\n",
    "shortest_word = ''       # the shortest word itself\n",
    "num_words = 0            # keeping track of total number of words for calculating the average word length and average sentence length (in words)\n",
    "num_characters = 0       # keeping track of total number of characters for calculating the average word length\n",
    "num_sentences = 0        # keeping track of total number of sentences (separated by newline, or period/questionmark/exclamation point)\n",
    "\n",
    "\n",
    "# Open the file\n",
    "# Note: the basic structure of this code is very similar to that of Exercise 2, there are just a lot more things \n",
    "# we need to store in the variables above to keep track of everything.\n",
    "with open('./Movies/All_Movies.txt', mode='r') as f:\n",
    "    # Read each synopsis as an item in a list\n",
    "    # Note: simply using read() might also work here, because we don't really care which synopsis the longest word belongs to,\n",
    "    # but this version is perhaps a bit clearer and it provides a stronger basis for Bonus Exercise 1.\n",
    "    synopsis = f.read().splitlines()\n",
    "\n",
    "    # Go through each line and split it into words\n",
    "    for syn in synopsis:\n",
    "        synopsis_lengths.append(len(syn)) # Length, in characters, of this synopsis\n",
    "\n",
    "        # A synopsis can have multiple sentences, so we split by the period sign, question mark or exclamation point to take this into account\n",
    "        # We use regular expression magic for this, but it is not that easy because we have some unique cases \n",
    "        # like Dr. and J. (Robert Oppenheimer) which don't mean the end of a sentence. I did my best to address all of these special cases...\n",
    "        # Note that these types of scenarios will not appear on the exam, don't worry!\n",
    "        sentences = re.findall(r'\\b(\\S{3,}|[a-z]{2,})\\b[\\.\\!\\?]', syn)\n",
    "        \n",
    "        # Description of the regular expression in plain English: find all occurrences of a period, question mark or exclamation point\n",
    "        # that is preceded by a word that consists of either at least three characters of any type \\S{3,} or two lowercase letters.\n",
    "        # (We want to avoid detecting Dr. and J. as ends of sentences, but one of the synopses actually ends with 'go.')\n",
    "        num_sentences += len(sentences)       \n",
    "        \n",
    "        words = syn.split() # Split each line/synopsis into words (from an earlier worksheet)\n",
    "\n",
    "        # Go through each word and check its length\n",
    "        for word in words:\n",
    "            # Update the total number of words encountered\n",
    "            num_words += 1\n",
    "            \n",
    "            # Update word frequency -- this was also done in a bonus exercise of worksheet 2 (the love letter)\n",
    "            if word.lower() in word_frequencies:\n",
    "                word_frequencies[word.lower()] += 1 # Increase the frequency by 1\n",
    "            else:\n",
    "                word_frequencies[word.lower()] = 1 # Word occurred for the first time\n",
    "\n",
    "            wordlen = len(word)\n",
    "            \n",
    "            # Update the total number of characters found in words\n",
    "            num_characters += wordlen\n",
    "\n",
    "            # If the length of this word is shorter than the currently known shortest word, remember this new shortest word.\n",
    "            if len(word) < shortest_word_len:\n",
    "                shortest_word_len = len(word)\n",
    "                shortest_word = word\n",
    "\n",
    "\n",
    "# Time to output everything\n",
    "print(f\"Length of the synopses: {synopsis_lengths} characters\")\n",
    "print(f\"Number of unique words in the whole file: {len(word_frequencies)}\")\n",
    "print(f\"Shortest word: {shortest_word}\")\n",
    "print(f\"Average word length: {num_characters / num_words} characters\")\n",
    "print(f\"Average sentence length: {num_words / num_sentences} words\")\n",
    "\n",
    "# Sort the word frequency dictionary by value descending\n",
    "word_freq_sorted = sorted(word_frequencies, key=word_frequencies.get, reverse=True)\n",
    "\n",
    "print()\n",
    "print(f\"Ten most frequent words: \")\n",
    "\n",
    "for i in range(0, 10):\n",
    "    w = word_freq_sorted[i]\n",
    "    print(f'{w}: {word_frequencies[w]} times')\n",
    "\n",
    "## Bonus Exercise 2 is a bit hard to write in such a way that it will install the library for everyone's environment, \n",
    "## so I will leave this out. But let me know if you want me to demonstrate this in the tutorial!])"
   ]
  },
  {
   "cell_type": "markdown",
   "metadata": {
    "collapsed": false,
    "jupyter": {
     "outputs_hidden": false
    }
   },
   "source": [
    "## File Paths and the OS module\n",
    "\n",
    "When we are interacting with files on our system, the location that we use matters a lot. You do not want to delete the wrong folder, for instance, or overwrite important files. That is why it is always important to pay attention to file paths, make sure they are referring to the right location and the right file. First of all, an important distinction I want to make is between **files** and **directories**:\n",
    "\n",
    " - files -- These contain information. Think of Python files, or Txt files, which we are working with today.\n",
    " - directories -- These contain files and directories *inside of* them.\n",
    "\n",
    "In Python, there are two ways to indicate which directory we want to interact with: **absolute** and **relative** file paths.\n",
    "\n",
    "Absolute file paths are basically the full file path on your computer. It starts from a root directory, noted by a `/` (Mac and Linux) or a `C:` (Windows). For example, `/Users/example_user/Desktop` or `C:/Users/example_user/Desktop`, refers you to the Desktop on a Mac and Windows, respectively. An absolute file path describes how to access a given file or directory, starting from the root of the file system.\n",
    "\n",
    "Relative file paths are notated by a lack of a leading forward slash. For example, the code block examples we have seen in this Worksheet all contain examples of relative file paths (e.g., `'./Movies/All_Movies.txt'`). A relative file path is interpreted from the perspective of your current working directory. In a sense, whenever you use a relative file path, it is joined with your current directory to create an absolute file path. That is, if my current working directory is `C:/Users/example_user/Desktop` and I use a relative file path of `./Movies`, then that is equivalent to using tho absolute file path `C:/Users/example_user/Desktop/Movies`. With relative file paths, two special characters are important to remember: `./` (which means \"the folder of the current directory\") and `../` (which means \"the folder that contains the current directory\"). We will mostly use the `./` one.\n",
    "\n",
    "If you use a relative file path from the wrong directory, then the path will refer to a different file than you intend, or it will not refer to any file at all. So an absolute file path can be nice as it will work from any directory on your computer. However, an advantage of a relative file path is that it works on any computer: if I added my full file path `C:/Users/Chris/Desktop/Movies/Barbie.txt` in the code block examples, it would have caused an error on your computer if your account name is not *Chris* and if you are not working with a *Windows* Operating System. That is why I prefer working with them.\n",
    "\n",
    "One thing you may wonder when using a relative path is \"But what is actually my current working directory?\" that is one of the things where the OS module can help you with. The OS module in Python provides functions for interacting with the operating system. Think for instance of functions such as:\n",
    "\n",
    "- Locating the Current Working Directory\n",
    "- Creating a Directory\n",
    "- Listing out Files and Directories with Python\n",
    "- Deleting Directory or Files using Python\n",
    "\n",
    "### os.getcwd()\n",
    "\n",
    "When you run a python program (or Jupyter Notebook), its current working directory is initialized to the location of that program/notebook. It can be retrieved using the function `os.getcwd()`."
   ]
  },
  {
   "cell_type": "code",
   "execution_count": 122,
   "metadata": {
    "collapsed": false,
    "jupyter": {
     "outputs_hidden": false
    }
   },
   "outputs": [
    {
     "name": "stdout",
     "output_type": "stream",
     "text": [
      "The current working directory is: /Users/jandewit/Documents/Werk/Courses/RS Programming/Tutorial 4/Week_4_Programming\n"
     ]
    }
   ],
   "source": [
    "## Code block 5: Obtaining the current working directory\n",
    "\n",
    "import os\n",
    "\n",
    "print(\"The current working directory is:\", os.getcwd())"
   ]
  },
  {
   "cell_type": "markdown",
   "metadata": {
    "collapsed": false,
    "jupyter": {
     "outputs_hidden": false
    }
   },
   "source": [
    "### os.listdir() and os.path.join()\n",
    "\n",
    "The os.listdir function takes one argument: an absolute or relative pathname, which should refer to a directory. The function returns a list of relative pathnames (strings) of all files/directories inside the given directory name."
   ]
  },
  {
   "cell_type": "code",
   "execution_count": 124,
   "metadata": {
    "collapsed": false,
    "jupyter": {
     "outputs_hidden": false
    }
   },
   "outputs": [
    {
     "name": "stdout",
     "output_type": "stream",
     "text": [
      "['All_Movies.txt', 'Best_Movies.txt', 'Oscar_Type.txt', '.ipynb_checkpoints', 'Barbie.txt']\n"
     ]
    }
   ],
   "source": [
    "## Code block 6: Obtaining the list of files inside the Movies directory\n",
    "\n",
    "import os\n",
    "\n",
    "filenames = os.listdir('./Movies')\n",
    "\n",
    "print(filenames)"
   ]
  },
  {
   "cell_type": "markdown",
   "metadata": {
    "collapsed": false,
    "jupyter": {
     "outputs_hidden": false
    }
   },
   "source": [
    "Basically, the list that `os.listdir()` provides are just the names of the files inside of the folder that we have specified in the `os.listdir()` function. What the code block above does, is the following:\n",
    "\n",
    "- The current working directory is (in my case) `C:/Users/Chris/Desktop/Week_4_Programming`. That is also the folder where this Worksheet is located.\n",
    "- There is a directory inside of `C:/Users/Chris/Desktop/Week_4_Programming` called `Movies`. That is, this folder's absolute path is `C:/Users/Chris/Desktop/Week_4_Programming/Movies`, and its relative path is `./Movies`\n",
    "- Inside of the Movies folder are three files called `All_Movies.txt`, `Barbie.txt` and `Best_Movies.txt`.\n",
    "\n",
    "Now, let's say we want to open the first file in the list of filenames, obtained with the `os.listdir()` function. We unfortunately cannot open it directly."
   ]
  },
  {
   "cell_type": "code",
   "execution_count": 128,
   "metadata": {
    "collapsed": false,
    "jupyter": {
     "outputs_hidden": false
    },
    "pycharm": {
     "is_executing": true
    }
   },
   "outputs": [
    {
     "name": "stdout",
     "output_type": "stream",
     "text": [
      "['All_Movies.txt', 'Best_Movies.txt', 'Oscar_Type.txt', '.ipynb_checkpoints', 'Barbie.txt']\n",
      "First file is: All_Movies.txt\n"
     ]
    },
    {
     "ename": "FileNotFoundError",
     "evalue": "[Errno 2] No such file or directory: 'All_Movies.txt'",
     "output_type": "error",
     "traceback": [
      "\u001b[0;31m---------------------------------------------------------------------------\u001b[0m",
      "\u001b[0;31mFileNotFoundError\u001b[0m                         Traceback (most recent call last)",
      "Cell \u001b[0;32mIn[128], line 14\u001b[0m\n\u001b[1;32m     11\u001b[0m \u001b[38;5;28mprint\u001b[39m(\u001b[38;5;124m\"\u001b[39m\u001b[38;5;124mFirst file is:\u001b[39m\u001b[38;5;124m\"\u001b[39m, firstfile)\n\u001b[1;32m     13\u001b[0m \u001b[38;5;66;03m# Now, let's try to open it\u001b[39;00m\n\u001b[0;32m---> 14\u001b[0m \u001b[38;5;28;01mwith\u001b[39;00m \u001b[38;5;28mopen\u001b[39m(firstfile, mode\u001b[38;5;241m=\u001b[39m\u001b[38;5;124m'\u001b[39m\u001b[38;5;124mr\u001b[39m\u001b[38;5;124m'\u001b[39m) \u001b[38;5;28;01mas\u001b[39;00m f:\n\u001b[1;32m     15\u001b[0m     contents \u001b[38;5;241m=\u001b[39m f\u001b[38;5;241m.\u001b[39mread()\n\u001b[1;32m     17\u001b[0m \u001b[38;5;28mprint\u001b[39m(contents)\n",
      "File \u001b[0;32m~/Documents/Anaconda/anaconda3/lib/python3.12/site-packages/IPython/core/interactiveshell.py:324\u001b[0m, in \u001b[0;36m_modified_open\u001b[0;34m(file, *args, **kwargs)\u001b[0m\n\u001b[1;32m    317\u001b[0m \u001b[38;5;28;01mif\u001b[39;00m file \u001b[38;5;129;01min\u001b[39;00m {\u001b[38;5;241m0\u001b[39m, \u001b[38;5;241m1\u001b[39m, \u001b[38;5;241m2\u001b[39m}:\n\u001b[1;32m    318\u001b[0m     \u001b[38;5;28;01mraise\u001b[39;00m \u001b[38;5;167;01mValueError\u001b[39;00m(\n\u001b[1;32m    319\u001b[0m         \u001b[38;5;124mf\u001b[39m\u001b[38;5;124m\"\u001b[39m\u001b[38;5;124mIPython won\u001b[39m\u001b[38;5;124m'\u001b[39m\u001b[38;5;124mt let you open fd=\u001b[39m\u001b[38;5;132;01m{\u001b[39;00mfile\u001b[38;5;132;01m}\u001b[39;00m\u001b[38;5;124m by default \u001b[39m\u001b[38;5;124m\"\u001b[39m\n\u001b[1;32m    320\u001b[0m         \u001b[38;5;124m\"\u001b[39m\u001b[38;5;124mas it is likely to crash IPython. If you know what you are doing, \u001b[39m\u001b[38;5;124m\"\u001b[39m\n\u001b[1;32m    321\u001b[0m         \u001b[38;5;124m\"\u001b[39m\u001b[38;5;124myou can use builtins\u001b[39m\u001b[38;5;124m'\u001b[39m\u001b[38;5;124m open.\u001b[39m\u001b[38;5;124m\"\u001b[39m\n\u001b[1;32m    322\u001b[0m     )\n\u001b[0;32m--> 324\u001b[0m \u001b[38;5;28;01mreturn\u001b[39;00m io_open(file, \u001b[38;5;241m*\u001b[39margs, \u001b[38;5;241m*\u001b[39m\u001b[38;5;241m*\u001b[39mkwargs)\n",
      "\u001b[0;31mFileNotFoundError\u001b[0m: [Errno 2] No such file or directory: 'All_Movies.txt'"
     ]
    }
   ],
   "source": [
    "## Code block 7: Wrong way of opening a file found with os.listdir:\n",
    "\n",
    "import os\n",
    "\n",
    "filenames = os.listdir('./Movies')\n",
    "\n",
    "print(filenames)\n",
    "# Let's just grab the first file in the Movies folder\n",
    "firstfile = filenames[0]\n",
    "\n",
    "print(\"First file is:\", firstfile)\n",
    "\n",
    "# Now, let's try to open it\n",
    "with open(firstfile, mode='r') as f:\n",
    "    contents = f.read()\n",
    "\n",
    "print(contents)"
   ]
  },
  {
   "cell_type": "markdown",
   "metadata": {
    "collapsed": false,
    "jupyter": {
     "outputs_hidden": false
    }
   },
   "source": [
    "Notice that when we attempt to open the code in code block 7, Python reported that no such file exists. That is because we are not supplying any directory information. When this is missing, Python will think that the file you are trying to open is in the current working directory (i.e., the directory of this worksheet). However, we are trying to open a file that is not directly in the same folder as this worksheet, but in the Movies folder of the worksheet. Therefore, we need to supply information about the directory when we try to open a file that was found with `os.listdir()`. That is where `os.path.join()` comes in."
   ]
  },
  {
   "cell_type": "code",
   "execution_count": 130,
   "metadata": {
    "collapsed": false,
    "jupyter": {
     "outputs_hidden": false
    },
    "pycharm": {
     "is_executing": true
    }
   },
   "outputs": [
    {
     "name": "stdout",
     "output_type": "stream",
     "text": [
      "['All_Movies.txt', 'Best_Movies.txt', 'Oscar_Type.txt', '.ipynb_checkpoints', 'Barbie.txt']\n",
      "First file is: All_Movies.txt\n",
      "Movies/All_Movies.txt\n",
      "A novelist who's fed up with the establishment profiting from Black entertainment uses a pen name to write a book that propels him into the heart of the hypocrisy and madness he claims to disdain.\n",
      "A woman is suspected of murder after her husband's death; their half-blind son faces a moral dilemma as the main witness.\n",
      "Barbie and Ken are having the time of their lives in the colorful and seemingly perfect world of Barbie Land. However, when they get a chance to go to the real world, they soon discover the joys and perils of living among humans.\n",
      "When oil is discovered in 1920s Oklahoma under Osage Nation land, the Osage people are murdered one by one - until the FBI steps in to unravel the mystery.\n",
      "This love story chronicles the lifelong relationship of conductor-composer Leonard Bernstein and actress Felicia Montealegre Cohn Bernstein.\n",
      "The story of American scientist J. Robert Oppenheimer and his role in the development of the atomic bomb.\n",
      "Nora and Hae Sung, two deeply connected childhood friends, are wrested apart after Nora's family emigrates from South Korea. Twenty years later, they are reunited for one fateful week as they confront notions of love and destiny.\n",
      "The incredible tale about the fantastical evolution of Bella Baxter, a young woman brought back to life by the brilliant and unorthodox scientist Dr. Godwin Baxter.\n",
      "A cranky history teacher at a remote prep school is forced to remain on campus over the holidays with a grieving cook and a troubled student who has no place to go.\n",
      "Auschwitz commandant Rudolf Höss and his wife Hedwig strive to build a dream life for their family in a house and garden beside the camp.\n"
     ]
    }
   ],
   "source": [
    "## Code block 8: Correct way of opening a file found with os.listdir:\n",
    "\n",
    "\n",
    "import os\n",
    "\n",
    "filenames = os.listdir('./Movies')\n",
    "\n",
    "print(filenames)\n",
    "# Let's just grab the first file in the Movies folder\n",
    "firstfile = filenames[0]\n",
    "\n",
    "print(\"First file is:\", firstfile)\n",
    "\n",
    "#Now we add the directory information to the first file\n",
    "firstfile_correct = os.path.join(\"Movies\", filenames[0])\n",
    "print(firstfile_correct)\n",
    "\n",
    "# Now, let's try to open it\n",
    "with open(firstfile_correct, mode='r') as f:\n",
    "    contents = f.read()\n",
    "\n",
    "print(contents)"
   ]
  },
  {
   "cell_type": "markdown",
   "metadata": {
    "collapsed": false,
    "jupyter": {
     "outputs_hidden": false
    }
   },
   "source": [
    "In code block 8, we can combine the *Movies* folder and *All_Movies.txt* using `os.path.join()` to generate the relative path `.Movies/All_Movies.txt`. When we try to use this new relative path, our computer generates the absolute path (in my case) *C:/Users/Chris/Desktop/Week_4_Programming/All_Movies.txt*, which is what we want.\n",
    "\n",
    "Last week, we looked at string concatenation (+), and regular expressions, which seem like they could also be viable methods of combining the directory and the filename together in one string. However, we prefer using `os.path.join()`. The reason for this is that different computers represent paths in different ways. In particular, Windows uses \\ as a directory separator in the file path, while Unix (Mac and Linux) machines use / as a directory separator. Creating a filepath + filename string using string concatenation/regular expressions will not handle the file path as elegantly and correctly as `os.path.join()` will."
   ]
  },
  {
   "cell_type": "markdown",
   "metadata": {
    "collapsed": false,
    "jupyter": {
     "outputs_hidden": false
    }
   },
   "source": [
    "**[Exercise 3]** In the folder *Music* you can find the lyrics of this year's Grammy Awards winners of Best Record and Best Rap Song. When listening to these songs, however, you suddenly feel inexplicably angry and decide to change all occurrences of \"love\" in the lyrics to hate. For this exercise:\n",
    "\n",
    "- Read all files in the Music folder\n",
    "- Replace the word \"love\" with the word \"hate\" in these files\n",
    "- And save the updated files (with the same title)\n",
    "\n",
    "**[Bonus Exercise 3]** You have become even angrier and decide to rename the files in the Music folder: you replace the word \"best\" with \"worst\" in the titles."
   ]
  },
  {
   "cell_type": "code",
   "execution_count": 138,
   "metadata": {},
   "outputs": [
    {
     "name": "stdout",
     "output_type": "stream",
     "text": [
      "['Best Record.txt', 'Best Song.txt']\n",
      "Miley Cyrus - Flowers\n",
      "\n",
      "We were good, we were gold\n",
      "Kinda dream that can't be sold\n",
      "We were right 'til we weren't\n",
      "Built a home and watched it burn\n",
      "\n",
      "Mm, I didn't wanna leave you\n",
      "I didn't wanna lie\n",
      "Started to cry, but then remembered I\n",
      "\n",
      "I can buy myself flowers\n",
      "Write my name in the sand\n",
      "Talk to myself for hours\n",
      "Say things you don't understand\n",
      "I can take myself dancing\n",
      "And I can hold my own hand\n",
      "Yeah, I can love me better than you can\n",
      "\n",
      "Can love me better\n",
      "I can love me better, baby\n",
      "Can love me better\n",
      "I can love me better, baby\n",
      "\n",
      "Paint my nails cherry red\n",
      "Match the roses that you left\n",
      "No remorse, no regret\n",
      "I forgive every word you said\n",
      "\n",
      "Ooh, I didn't wanna leave you, baby\n",
      "I didn't wanna fight\n",
      "Started to cry, but then remembered I\n",
      "\n",
      "I can buy myself flowers\n",
      "Write my name in the sand\n",
      "Talk to myself for hours, yeah\n",
      "Say things you don't understand\n",
      "I can take myself dancing, yeah\n",
      "I can hold my own hand\n",
      "Yeah, I can love me better than you can\n",
      "\n",
      "Can love me better\n",
      "I can love me better, baby\n",
      "Can love me better\n",
      "I can love me better, baby\n",
      "Can love me better\n",
      "I can love me better, baby\n",
      "Can love me better\n",
      "Oh, I\n",
      "\n",
      "I didn't wanna leave you\n",
      "I didn't wanna fight\n",
      "Started to cry, but then remembered I\n",
      "\n",
      "I can buy myself flowers (oh)\n",
      "Write my name in the sand (mm)\n",
      "Talk to myself for hours (yeah)\n",
      "Say things you don't understand (you never will)\n",
      "I can take myself dancing, yeah\n",
      "I can hold my own hand\n",
      "Yeah, I can love me better than\n",
      "Yeah, I can love me better than you can\n",
      "\n",
      "Can love me better\n",
      "I can love me better, baby (oh)\n",
      "Can love me better\n",
      "I can love me better (than you can), baby\n",
      "Can love me better\n",
      "I can love me better, baby\n",
      "Can love me better\n",
      "I\n",
      "Miley Cyrus - Flowers\n",
      "\n",
      "We were good, we were gold\n",
      "Kinda dream that can't be sold\n",
      "We were right 'til we weren't\n",
      "Built a home and watched it burn\n",
      "\n",
      "Mm, I didn't wanna leave you\n",
      "I didn't wanna lie\n",
      "Started to cry, but then remembered I\n",
      "\n",
      "I can buy myself flowers\n",
      "Write my name in the sand\n",
      "Talk to myself for hours\n",
      "Say things you don't understand\n",
      "I can take myself dancing\n",
      "And I can hold my own hand\n",
      "Yeah, I can hate me better than you can\n",
      "\n",
      "Can hate me better\n",
      "I can hate me better, baby\n",
      "Can hate me better\n",
      "I can hate me better, baby\n",
      "\n",
      "Paint my nails cherry red\n",
      "Match the roses that you left\n",
      "No remorse, no regret\n",
      "I forgive every word you said\n",
      "\n",
      "Ooh, I didn't wanna leave you, baby\n",
      "I didn't wanna fight\n",
      "Started to cry, but then remembered I\n",
      "\n",
      "I can buy myself flowers\n",
      "Write my name in the sand\n",
      "Talk to myself for hours, yeah\n",
      "Say things you don't understand\n",
      "I can take myself dancing, yeah\n",
      "I can hold my own hand\n",
      "Yeah, I can hate me better than you can\n",
      "\n",
      "Can hate me better\n",
      "I can hate me better, baby\n",
      "Can hate me better\n",
      "I can hate me better, baby\n",
      "Can hate me better\n",
      "I can hate me better, baby\n",
      "Can hate me better\n",
      "Oh, I\n",
      "\n",
      "I didn't wanna leave you\n",
      "I didn't wanna fight\n",
      "Started to cry, but then remembered I\n",
      "\n",
      "I can buy myself flowers (oh)\n",
      "Write my name in the sand (mm)\n",
      "Talk to myself for hours (yeah)\n",
      "Say things you don't understand (you never will)\n",
      "I can take myself dancing, yeah\n",
      "I can hold my own hand\n",
      "Yeah, I can hate me better than\n",
      "Yeah, I can hate me better than you can\n",
      "\n",
      "Can hate me better\n",
      "I can hate me better, baby (oh)\n",
      "Can hate me better\n",
      "I can hate me better (than you can), baby\n",
      "Can hate me better\n",
      "I can hate me better, baby\n",
      "Can hate me better\n",
      "I\n",
      "Worst Record.txt\n",
      "André 3000 and Killer Mike - Scientists & Engineers\n",
      "\n",
      "[Intro: Eryn Allen Kane & Future]\n",
      "Ooh, hey-hey-hey, ooh, hey (Yeah)\n",
      "Ooh, hey, ooh, hey\n",
      "Standin' in the rain (Standin' in the rain)\n",
      "Washin' all my sins (Washin' all my–)\n",
      "And the streets ain't the same\n",
      "They spin one time, they'll spin again (Spin again, spin again)\n",
      "Go make love to an angel (Make love)\n",
      "While the devil in my head\n",
      "\n",
      "[Verse 1: André 3000 & Eryn Allen Kane]\n",
      "Communication comin' in\n",
      "Too much that I can't communicate with all of them\n",
      "I do wish I had scientist or engineer friends\n",
      "Let's go, get out of here, petrol is cheaper than it's ever been\n",
      "And then, who's to say when all would end?\n",
      "All I know is whеn the portrait painted bettеr have your portion of the rent\n",
      "A dollar more and you will get upgraded\n",
      "When you've think you've made it, you are then\n",
      "Just tolerated, overrated\n",
      "Hope I'm eighty when I get my second wind\n",
      "Small potatoes all I ate before potato chips would cut my corner lips\n",
      "Operator, operator, I would pray that you connect me to a sip\n",
      "Of sangria, Zambia, camera cameo, hand me a handful of hips\n",
      "A stamina stampede of happily happenings, dabblin' into obliv-ion, neon, beyond the ambiance\n",
      "Be honest, you promised that you will live\n",
      "Do summers ever forget?\n",
      "Pajamas feel like a kid, cucumber will make her drip\n",
      "Do jump on it, hit a split, hookahs don't really do shit\n",
      "Duke Ellington in this bitch, rebelling is like an itch, oh\n",
      "I'ma, I'ma live forever\n",
      "You might also like\n",
      "RUN\n",
      "Killer Mike\n",
      "Attention\n",
      "Doja Cat\n",
      "Fast Car\n",
      "Tracy Chapman\n",
      "[Verse 2: Future & Eryn Allen Kane]\n",
      "Yeah, diamonds shaped like a tear drop\n",
      "I got the streets in a headlock\n",
      "Fly just like a skydiver\n",
      "Spirit, I can get man-slaughtered\n",
      "Suicide door on the Range Rover\n",
      "Dependin' on the time I was layin' up\n",
      "I could've been wearin' an animal\n",
      "Pull up and get at you in a Lambo\n",
      "When it gets hard, nigga took a gamble (Took a gamble)\n",
      "Tryna avoid cameras, breakin' my heart tryna avoid cameras\n",
      "I keep shit loaded like a bando (Loaded like a bando)\n",
      "Learned how to turn a trap house to a mansion\n",
      "Watched me watch the world take my pain and balance it\n",
      "It's better to be an outcast in a world of envious (Oh, yeah)\n",
      "White socks, FILA flip flop, Chanel vintage 'til infinity\n",
      "I'ma live, I'ma live forever\n",
      "\n",
      "[Verse 3: Killer Mike]\n",
      "Music, computers and robbers and looters\n",
      "And looters with shooters, and shooters with Rugers\n",
      "And shooters with Rugers, CDs with my tooters\n",
      "And my tutors taught me a terrible miracle\n",
      "You can lie, cheat and still kill in America\n",
      "Be celebrated like Captain America\n",
      "Fuck it, I'm with it, let's get it\n",
      "This nigga and niggress and Bentley valetin' in Lenox\n",
      "Man, I'm a villain with children\n",
      "So I'm never chillin', I gotta make millions\n",
      "I used to be dope with the dealin'\n",
      "But that got a ceilin' and we know the usual endin'\n",
      "And niggas get rich and go bitch and go fail and go snitch\n",
      "And then fuck up they family and friends\n",
      "Me, I go to Germany, earn me a couple of millions\n",
      "Return with a couple of Benzes\n",
      "Or go to Brazil and just kick it and chill\n",
      "'Til I'm over the hill and still fuckin' on women\n",
      "The world got no mercy, so I had to show 'em\n",
      "Like Percy with me, it just can't be no limit\n",
      "A hundred percentage authentic, see I got no gimmicks\n",
      "So I ain't protectin' no image\n",
      "My style original, pivotal, it's goin' digital\n",
      "Niggas you like is a mimic\n",
      "I am a menace that's movin' on vengeance\n",
      "I promise my opp that my anger is endless\n",
      "It ain't enough that I took out my opp and his block\n",
      "We burned down his whole fuckin' village\n",
      "Did it with smile, not a grimace\n",
      "It was my pleasure to see that this fuck nigga finished\n",
      "If you get offended, then fuck it, my nigga\n",
      "I'm with it, I'm hittin', let's get this shit in it\n",
      "Back of the club, the immaculate thug\n",
      "With bottles of bub' and some asses to rub\n",
      "Look at me bitch, look at me, look at me bitch\n",
      "Look at the crook in me bitch\n",
      "Look at me hit you with crooked D\n",
      "Now I got you walkin' crookedly, they should be bookin' me\n",
      "They should be bookin' me, know that they won't\n",
      "I am Theolonius Monk in a donk\n",
      "Kickin' that jazz, collectin' my bag\n",
      "I'm talkin' milli', ain't talkin' Vanilli\n",
      "Had to get that hatin' nigga from near me\n",
      "I do not move like a regular Joe\n",
      "I am not moved by no regular hoe\n",
      "I do not wish for no regular life\n",
      "I did not marry a regular wife\n",
      "You think that I'm losin'? You smokin' a pipe\n",
      "[Outro: Eryn Allen Kane & Future]\n",
      "I'ma live, I'ma live forever\n",
      "They don't make 'em like this\n",
      "I'ma live, I'ma live forever\n",
      "Send some security\n",
      "Standin' in the rain (Just take me away)\n",
      "Washin' all my sins (Washin' all my–)\n",
      "The streets ain't the same\n",
      "They spin one time, they'll spin again\n",
      "I'ma live, I'ma live forever\n",
      "Go make love to an angel\n",
      "I'ma live, I'ma live forever\n",
      "While the devil in my head\n",
      "Devil's in my head\n",
      "André 3000 and Killer Mike - Scientists & Engineers\n",
      "\n",
      "[Intro: Eryn Allen Kane & Future]\n",
      "Ooh, hey-hey-hey, ooh, hey (Yeah)\n",
      "Ooh, hey, ooh, hey\n",
      "Standin' in the rain (Standin' in the rain)\n",
      "Washin' all my sins (Washin' all my–)\n",
      "And the streets ain't the same\n",
      "They spin one time, they'll spin again (Spin again, spin again)\n",
      "Go make hate to an angel (Make hate)\n",
      "While the devil in my head\n",
      "\n",
      "[Verse 1: André 3000 & Eryn Allen Kane]\n",
      "Communication comin' in\n",
      "Too much that I can't communicate with all of them\n",
      "I do wish I had scientist or engineer friends\n",
      "Let's go, get out of here, petrol is cheaper than it's ever been\n",
      "And then, who's to say when all would end?\n",
      "All I know is whеn the portrait painted bettеr have your portion of the rent\n",
      "A dollar more and you will get upgraded\n",
      "When you've think you've made it, you are then\n",
      "Just tolerated, overrated\n",
      "Hope I'm eighty when I get my second wind\n",
      "Small potatoes all I ate before potato chips would cut my corner lips\n",
      "Operator, operator, I would pray that you connect me to a sip\n",
      "Of sangria, Zambia, camera cameo, hand me a handful of hips\n",
      "A stamina stampede of happily happenings, dabblin' into obliv-ion, neon, beyond the ambiance\n",
      "Be honest, you promised that you will live\n",
      "Do summers ever forget?\n",
      "Pajamas feel like a kid, cucumber will make her drip\n",
      "Do jump on it, hit a split, hookahs don't really do shit\n",
      "Duke Ellington in this bitch, rebelling is like an itch, oh\n",
      "I'ma, I'ma live forever\n",
      "You might also like\n",
      "RUN\n",
      "Killer Mike\n",
      "Attention\n",
      "Doja Cat\n",
      "Fast Car\n",
      "Tracy Chapman\n",
      "[Verse 2: Future & Eryn Allen Kane]\n",
      "Yeah, diamonds shaped like a tear drop\n",
      "I got the streets in a headlock\n",
      "Fly just like a skydiver\n",
      "Spirit, I can get man-slaughtered\n",
      "Suicide door on the Range Rover\n",
      "Dependin' on the time I was layin' up\n",
      "I could've been wearin' an animal\n",
      "Pull up and get at you in a Lambo\n",
      "When it gets hard, nigga took a gamble (Took a gamble)\n",
      "Tryna avoid cameras, breakin' my heart tryna avoid cameras\n",
      "I keep shit loaded like a bando (Loaded like a bando)\n",
      "Learned how to turn a trap house to a mansion\n",
      "Watched me watch the world take my pain and balance it\n",
      "It's better to be an outcast in a world of envious (Oh, yeah)\n",
      "White socks, FILA flip flop, Chanel vintage 'til infinity\n",
      "I'ma live, I'ma live forever\n",
      "\n",
      "[Verse 3: Killer Mike]\n",
      "Music, computers and robbers and looters\n",
      "And looters with shooters, and shooters with Rugers\n",
      "And shooters with Rugers, CDs with my tooters\n",
      "And my tutors taught me a terrible miracle\n",
      "You can lie, cheat and still kill in America\n",
      "Be celebrated like Captain America\n",
      "Fuck it, I'm with it, let's get it\n",
      "This nigga and niggress and Bentley valetin' in Lenox\n",
      "Man, I'm a villain with children\n",
      "So I'm never chillin', I gotta make millions\n",
      "I used to be dope with the dealin'\n",
      "But that got a ceilin' and we know the usual endin'\n",
      "And niggas get rich and go bitch and go fail and go snitch\n",
      "And then fuck up they family and friends\n",
      "Me, I go to Germany, earn me a couple of millions\n",
      "Return with a couple of Benzes\n",
      "Or go to Brazil and just kick it and chill\n",
      "'Til I'm over the hill and still fuckin' on women\n",
      "The world got no mercy, so I had to show 'em\n",
      "Like Percy with me, it just can't be no limit\n",
      "A hundred percentage authentic, see I got no gimmicks\n",
      "So I ain't protectin' no image\n",
      "My style original, pivotal, it's goin' digital\n",
      "Niggas you like is a mimic\n",
      "I am a menace that's movin' on vengeance\n",
      "I promise my opp that my anger is endless\n",
      "It ain't enough that I took out my opp and his block\n",
      "We burned down his whole fuckin' village\n",
      "Did it with smile, not a grimace\n",
      "It was my pleasure to see that this fuck nigga finished\n",
      "If you get offended, then fuck it, my nigga\n",
      "I'm with it, I'm hittin', let's get this shit in it\n",
      "Back of the club, the immaculate thug\n",
      "With bottles of bub' and some asses to rub\n",
      "Look at me bitch, look at me, look at me bitch\n",
      "Look at the crook in me bitch\n",
      "Look at me hit you with crooked D\n",
      "Now I got you walkin' crookedly, they should be bookin' me\n",
      "They should be bookin' me, know that they won't\n",
      "I am Theolonius Monk in a donk\n",
      "Kickin' that jazz, collectin' my bag\n",
      "I'm talkin' milli', ain't talkin' Vanilli\n",
      "Had to get that hatin' nigga from near me\n",
      "I do not move like a regular Joe\n",
      "I am not moved by no regular hoe\n",
      "I do not wish for no regular life\n",
      "I did not marry a regular wife\n",
      "You think that I'm losin'? You smokin' a pipe\n",
      "[Outro: Eryn Allen Kane & Future]\n",
      "I'ma live, I'ma live forever\n",
      "They don't make 'em like this\n",
      "I'ma live, I'ma live forever\n",
      "Send some security\n",
      "Standin' in the rain (Just take me away)\n",
      "Washin' all my sins (Washin' all my–)\n",
      "The streets ain't the same\n",
      "They spin one time, they'll spin again\n",
      "I'ma live, I'ma live forever\n",
      "Go make hate to an angel\n",
      "I'ma live, I'ma live forever\n",
      "While the devil in my head\n",
      "Devil's in my head\n",
      "Worst Song.txt\n"
     ]
    }
   ],
   "source": [
    "## Exercise 3, combined with Bonus Exercise 3 to also avoid overwriting the original files.\n",
    "\n",
    "# We start by borrowing some code from Code block 8\n",
    "import os\n",
    "\n",
    "filenames = os.listdir('./Music')\n",
    "print(filenames)\n",
    "\n",
    "# Open each file separately\n",
    "for filename in filenames:\n",
    "    \n",
    "    # Retrieve the full path to the file as shown in Code block 8\n",
    "    to_open = os.path.join('Music', filename)\n",
    "\n",
    "    # Open the file, as we have been doing in previous exercises\n",
    "    with open(to_open, mode='r') as f:\n",
    "        original_text = f.read()\n",
    "        print(original_text)\n",
    "        \n",
    "        replacement_text = original_text.replace('love', 'hate')\n",
    "        print(replacement_text)\n",
    "\n",
    "        # Generate a new filename, replacing \"Best\" with \"Worst\"\n",
    "        new_filename = filename.replace('Best', 'Worst')\n",
    "        print(new_filename)\n",
    "\n",
    "        # Turn this new filename into a full path too\n",
    "        to_write = os.path.join('Music', new_filename)\n",
    "\n",
    "        # Open the file to write into\n",
    "        with open(to_write, mode='w') as f2:\n",
    "            f2.write(replacement_text)"
   ]
  },
  {
   "cell_type": "markdown",
   "metadata": {
    "collapsed": false,
    "jp-MarkdownHeadingCollapsed": true,
    "jupyter": {
     "outputs_hidden": false
    }
   },
   "source": [
    "That is all! If you run into any issues, do not forget to ask about this on the Discussion board, or during the Practical session!\n",
    "\n",
    "## Saving & Submitting\n",
    "\n",
    "Please submit the Worksheet as an HTML file (via Download as --> HTML) **via Canvas, Assignments**. Submission date: **25 February (23:59)**.\n",
    "\n",
    "## Skills & Further Resources\n",
    "\n",
    "This worksheet was about opening, modifying, and saving .txt files using Python.\n",
    "\n",
    "After working through it, you should be able to:\n",
    "\n",
    "1. Understand how to open files as strings or list of strings\n",
    "2. Save strings or list of strings\n",
    "3. Use absolute and relative file paths\n",
    "4. Locate the current directory\n",
    "5. List all files within a directory\n",
    "6. Join a filepath and filename\n",
    "\n",
    "If you want a bit more information on some of these topics, besides the chapters in Automate the Boring Stuff, I recommend:\n",
    "\n",
    "- Introduction to Importing Data in Python on https://datacamp.com\n",
    "\n",
    "## Overview of New Information\n",
    "\n",
    "| Python Code                                        |                                    does what                                    |\n",
    "|----------------------------------------------------|:-------------------------------------------------------------------------------:|\n",
    "| `x.read()`,  `x.readlines()`, `x.read.splitfile()` | Read `x` as a full string or as a list of strings (where each line is a string) |\n",
    "| `x.write()`, `x.writelines()`                      |                 Write a string to x, or a list of strings to x.                 |\n",
    "| `./`                                               |                Relative filepath: the current working directory                 |\n",
    "| `./`                                               |                     Relative filepath: the parent directory                     |\n",
    "| `os.getcwd()`                                      |                      Locate the current working directory                       |\n",
    "| `os.listdir()`                                     |                        List all files within a directory                        |\n",
    "| `os.path.join()`                                   |                          Join a filepath and filename                           |"
   ]
  }
 ],
 "metadata": {
  "kernelspec": {
   "display_name": "Python [conda env:base] *",
   "language": "python",
   "name": "conda-base-py"
  },
  "language_info": {
   "codemirror_mode": {
    "name": "ipython",
    "version": 3
   },
   "file_extension": ".py",
   "mimetype": "text/x-python",
   "name": "python",
   "nbconvert_exporter": "python",
   "pygments_lexer": "ipython3",
   "version": "3.12.7"
  }
 },
 "nbformat": 4,
 "nbformat_minor": 4
}

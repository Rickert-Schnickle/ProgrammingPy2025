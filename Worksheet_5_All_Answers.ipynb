{
 "cells": [
  {
   "cell_type": "markdown",
   "metadata": {
    "collapsed": false,
    "jupyter": {
     "outputs_hidden": false
    }
   },
   "source": [
    "# Worksheet 5: Baby Names"
   ]
  },
  {
   "cell_type": "markdown",
   "metadata": {
    "collapsed": false,
    "jupyter": {
     "outputs_hidden": false
    }
   },
   "source": [
    "Remember: Google is your friend! Functions are explained in more detail (amongst others) on the Python website, and the\n",
    "website \"Stackoverflow.com\" probably has the answer to all of life's (programming related) issues. So if you add \"site:stackoverflow.com\" to your\n",
    "Google query, you should be able to find someone who was experiencing a similar issue, and the way to solve it.\n",
    "\n",
    "-------------------------------\n",
    "\n",
    "This week we are going to work with baby name data. Nothing topical, I'm just constantly surprised how much effort people put into the task of picking a baby name: trying to find a name with the right meaning, the inclusion of a certain syllable, and current popularity of that baby name.\n",
    "\n",
    "-------------------------------\n",
    "\n",
    "## Installing OpenPyXL\n",
    "\n",
    "First, we are going to install the OpenPyXL library. An external library. We have been working with internal libraries in the previous weeks, that allow us to use extra functions. External libraries allow us to use even more functions. Whatever you want to do, you can probably find an external library somewhere that facilitates this with Python. That's partly why Python is such a powerful and useful programming language: there is a big community of people using it and making all these external libraries so that it can be used for all kinds of purposes. As discussed in the video lecture, you can install external libraries using Anaconda Prompt, and then using \"pip install [library_name]\". Alternatively, and what we are going to do now: you can just run the bit of code below, and if all goes well, it should just install the necessary library for these exercises."
   ]
  },
  {
   "cell_type": "code",
   "execution_count": 3,
   "metadata": {
    "collapsed": false,
    "jupyter": {
     "outputs_hidden": false
    }
   },
   "outputs": [
    {
     "name": "stdout",
     "output_type": "stream",
     "text": [
      "Requirement already satisfied: openpyxl in /Users/jandewit/Documents/Anaconda/anaconda3/lib/python3.12/site-packages (3.1.5)\n",
      "Requirement already satisfied: et-xmlfile in /Users/jandewit/Documents/Anaconda/anaconda3/lib/python3.12/site-packages (from openpyxl) (1.1.0)\n"
     ]
    }
   ],
   "source": [
    "## Code block 1: Install a pip package in the current Jupyter kernel\n",
    "import sys\n",
    "!{sys.executable} -m pip install openpyxl\n",
    "\n",
    "# Note by Jan: for me what also worked was the line below, if you're having any issues running the code above, try this alternative.\n",
    "# !conda install --yes openpyxl"
   ]
  },
  {
   "cell_type": "markdown",
   "metadata": {
    "collapsed": false,
    "jupyter": {
     "outputs_hidden": false
    }
   },
   "source": [
    "For this week's assignment, you can find three Excel files on Canvas (`Babynames_VerySmall.xlsx`, `Babynames_Small.xlsx` and `Babynames_Large.xlsx`). These Excel files contain American baby names from 2000-2020 (originally from [this website](https://www.ssa.gov/oact/babynames/limits.html)). If you scroll through the Excel file, you will see that the names are sorted alphabetically for each year, so the first rows are the alphabetically ordered names from 2000, then the names from 2001, 2002, etc. `Babynames_Small.xlsx` is just a smaller version from the large dataset where I have removed all names that occur less than 100 times. And for `Babynames_VerySmall.xlsx` we only have names occurring more than 10,000 times. So, just to be clear: all datasets are usable for the exercises, but especially when testing things out, **I recommend using `Babynames_VerySmall.xlsx`**."
   ]
  },
  {
   "cell_type": "markdown",
   "metadata": {
    "collapsed": false,
    "jupyter": {
     "outputs_hidden": false
    }
   },
   "source": [
    "## Opening, modifying, and saving Excel (.xlsx) files\n",
    "\n",
    "Let's first take a look at how to open Excel files. We saw with text files that when you opened the text file, you could read the full file with the `.read()` function. With Excel this is a bit more complicated. Let's try to open an Excel file first:"
   ]
  },
  {
   "cell_type": "code",
   "execution_count": 5,
   "metadata": {
    "collapsed": false,
    "jupyter": {
     "outputs_hidden": false
    },
    "pycharm": {
     "is_executing": true
    }
   },
   "outputs": [
    {
     "name": "stdout",
     "output_type": "stream",
     "text": [
      "<openpyxl.worksheet._read_only.ReadOnlyWorksheet object at 0x155a5c290>\n"
     ]
    }
   ],
   "source": [
    "## Code block 2: Load Excel file\n",
    "\n",
    "import openpyxl\n",
    "\n",
    "# Load an existing workbook (the Babynames file)\n",
    "wb = openpyxl.load_workbook('./Babynames_VerySmall.xlsx', read_only=True)\n",
    "# And go to the active worksheet in Excel (this is usually the first worksheet in the file)\n",
    "ws = wb.active\n",
    "\n",
    "print(ws)"
   ]
  },
  {
   "cell_type": "markdown",
   "metadata": {
    "collapsed": false,
    "jupyter": {
     "outputs_hidden": false
    }
   },
   "source": [
    "We managed to load the Excel file, activated the worksheet, but unfortunately, that does not automatically give us the actual content of the Excel file. Also, note how I used `read_only=True` as a parameter in the `.load_workbook` function: this parameter makes it so that we can only read content from the Excel file. It is somewhat similar to the `mode=\"r\"` parameter we saw last week with the text files.\n",
    "\n",
    "The Excel file that we load contains a lot of information, such as the rows and columns information (where an Excel cell is located), and the values themselves. Generally, when we are working with Excel files, we just care about the values that can be found. So let's get these! For this, we should check the [tutorial of OpenPyXL](https://openpyxl.readthedocs.io/en/stable/tutorial.html) (the part on *Values only*) where they tell us how to do this."
   ]
  },
  {
   "cell_type": "code",
   "execution_count": 1,
   "metadata": {
    "collapsed": false,
    "jupyter": {
     "outputs_hidden": false
    },
    "pycharm": {
     "is_executing": true
    }
   },
   "outputs": [],
   "source": [
    "## Code block 3: Load Excel file (part 2)\n",
    "\n",
    "import openpyxl\n",
    "\n",
    "# Load an existing workbook (the Babynames file)\n",
    "wb = openpyxl.load_workbook('./Babynames_VerySmall.xlsx', read_only=True)\n",
    "# And go to the active worksheet in Excel (this is usually the first worksheet in the file)\n",
    "ws = wb.active\n",
    "\n",
    "for row in ws.values:\n",
    "   for value in row:\n",
    "     print(value)"
   ]
  },
  {
   "cell_type": "markdown",
   "metadata": {
    "collapsed": false,
    "jupyter": {
     "outputs_hidden": false
    }
   },
   "source": [
    "By copy-pasting the bit of code we found for *Values only*, we are able to obtain all values now. But now it just prints every cell, regardless of the position. In the video lecture, we discussed working with *Records*. Generally, the standard for Excel is that each row is a *record* and columns describe the *attributes* of a record. Therefore, it would be nice to have a bit of structure that keeps the information about records and attributes intact. How are we going to do this?"
   ]
  },
  {
   "cell_type": "code",
   "execution_count": 3,
   "metadata": {
    "collapsed": false,
    "jupyter": {
     "outputs_hidden": false
    },
    "pycharm": {
     "is_executing": true
    }
   },
   "outputs": [],
   "source": [
    "## Code block 4: Load Excel file (part 3)\n",
    "\n",
    "import openpyxl\n",
    "\n",
    "# Load an existing workbook (the Babynames file)\n",
    "wb = openpyxl.load_workbook('./Babynames_VerySmall.xlsx', read_only=True)\n",
    "# And go to the active worksheet in Excel (this is usually the first worksheet in the file)\n",
    "ws = wb.active\n",
    "\n",
    "for row in ws.values:\n",
    "    print(row)"
   ]
  },
  {
   "cell_type": "markdown",
   "metadata": {
    "collapsed": false,
    "jupyter": {
     "outputs_hidden": false
    }
   },
   "source": [
    "We removed a bit at the end. Instead of\n",
    "`for row in ws.values:`\n",
    "&nbsp;&nbsp;&nbsp;&nbsp;`for value in row:`\n",
    "&nbsp;&nbsp;&nbsp;&nbsp;&nbsp;&nbsp;&nbsp;&nbsp;`print(value)`\n",
    "\n",
    "We now just have\n",
    "`for row in ws.values:`\n",
    "&nbsp;&nbsp;&nbsp;&nbsp;`print(row)`\n",
    "\n",
    "This not only makes the code a bit less complicated (because we are avoiding the double `for` loop), but we are now printing each row individually. By default, `OpenPyXL` prints rows in a `tuple` data structure, identified by their parentheses `(` `)`. We have not really discussed `tuples` in the lecture on data types. What you should know about it is that they are essentially immutable lists that are a bit more memory-efficient compared to lists. In most cases you would not really notice that tuples load a tiny bit quicker than lists. Considering that this speed boost is at the cost of modifiability, I generally prefer lists over tuples. Luckily, we can easily convert a tuple to a list with the `list()` function.\n",
    "\n",
    "Finally, we also would like to make sure that all the rows that we load are stored into a variable in a structured way. Let's take a look how we would do this."
   ]
  },
  {
   "cell_type": "code",
   "execution_count": 5,
   "metadata": {
    "collapsed": false,
    "jupyter": {
     "outputs_hidden": false
    },
    "pycharm": {
     "is_executing": true
    }
   },
   "outputs": [],
   "source": [
    "## Code block 5: Load Excel file (part 4)\n",
    "\n",
    "import openpyxl\n",
    "\n",
    "# Load an existing workbook (the Babynames file)\n",
    "wb = openpyxl.load_workbook('./Babynames_VerySmall.xlsx', read_only=True)\n",
    "# And go to the active worksheet in Excel (this is usually the first worksheet in the file)\n",
    "ws = wb.active\n",
    "\n",
    "allrows = []\n",
    "\n",
    "for row in ws.values:\n",
    "    newrow = list(row)\n",
    "    allrows.append(newrow)\n",
    "\n",
    "print(allrows)"
   ]
  },
  {
   "cell_type": "markdown",
   "metadata": {
    "collapsed": false,
    "jupyter": {
     "outputs_hidden": false
    }
   },
   "source": [
    "Okay, so this looks close to the ideal structure that we want to work with. We have one big list, representing the full Excel file, with a lot of lists inside that list. Each list inside that full Excel file list represents one record from the Excel file. These lists representing the records contain multiple items, where each item represents one attribute from the record.\n",
    "\n",
    "So, basically, we can represent each Excel file as a list-of-lists, where the main list is the full Excel file, and the lists inside are the rows. That way, we can also locate all the information from one column."
   ]
  },
  {
   "cell_type": "code",
   "execution_count": 7,
   "metadata": {
    "collapsed": false,
    "jupyter": {
     "outputs_hidden": false
    },
    "pycharm": {
     "is_executing": true
    }
   },
   "outputs": [],
   "source": [
    "## Code block 6: Getting the values of one column\n",
    "\n",
    "import openpyxl\n",
    "\n",
    "# Load an existing workbook (the Babynames file)\n",
    "wb = openpyxl.load_workbook('./Babynames_VerySmall.xlsx', read_only=True)\n",
    "# And go to the active worksheet in Excel (this is usually the first worksheet in the file)\n",
    "ws = wb.active\n",
    "\n",
    "allrows = []\n",
    "\n",
    "for row in ws.values:\n",
    "    newrow = list(row)\n",
    "    allrows.append(newrow)\n",
    "\n",
    "#Now let's find the data from the Sex column (the second column)\n",
    "secondcolumn = []\n",
    "\n",
    "for row in allrows:\n",
    "    #Second column idx = 1\n",
    "    secondcolumn.append(row[1])\n",
    "\n",
    "print(secondcolumn)"
   ]
  },
  {
   "cell_type": "markdown",
   "metadata": {
    "collapsed": false,
    "jupyter": {
     "outputs_hidden": false
    }
   },
   "source": [
    "Now, we would also like to see how we can save a new Excel file. How do we do this? The tutorial on the OpenPyXL website is unfortunately a bit secretive about all the details you need to know. Let's take a look at the code that they provide on the website."
   ]
  },
  {
   "cell_type": "code",
   "execution_count": 17,
   "metadata": {
    "collapsed": false,
    "jupyter": {
     "outputs_hidden": false
    }
   },
   "outputs": [],
   "source": [
    "## Code block 6: Saving Python data to an Excel file\n",
    "\n",
    "import openpyxl\n",
    "\n",
    "wb = openpyxl.Workbook()\n",
    "wb.save('./Babynames_Test.xlsx')"
   ]
  },
  {
   "cell_type": "markdown",
   "metadata": {
    "collapsed": false,
    "jupyter": {
     "outputs_hidden": false
    }
   },
   "source": [
    "A new Excel file has been created in the folder that this Worksheet is also in: `Babynames_Test.xlsx`. If you open it, you will see that it is completely empty. In most cases, you don't want to write a Python script that just creates an empty Excel file. We want some information in there. Luckily, the list-of-lists structure that we have used to read a Python file, can also be used to write such a file."
   ]
  },
  {
   "cell_type": "code",
   "execution_count": 19,
   "metadata": {
    "collapsed": false,
    "jupyter": {
     "outputs_hidden": false
    },
    "pycharm": {
     "is_executing": true
    }
   },
   "outputs": [
    {
     "name": "stdout",
     "output_type": "stream",
     "text": [
      "[['Goku', 'Best name ever'], ['Vegeta', 'Also a pretty good name'], ['Gohan', 'Sure, that name is also fine']]\n"
     ]
    }
   ],
   "source": [
    "## Code block 7: Saving Python data to an Excel file (part 2)\n",
    "\n",
    "import openpyxl\n",
    "\n",
    "excellist = []\n",
    "\n",
    "# First, let's add some rows to our excellist that we would want to save\n",
    "excellist.append(['Goku', 'Best name ever'])\n",
    "excellist.append(['Vegeta', 'Also a pretty good name'])\n",
    "excellist.append(['Gohan', 'Sure, that name is also fine'])\n",
    "\n",
    "#This is what our Excel will sort-of look like\n",
    "print(excellist)\n",
    "\n",
    "wb = openpyxl.Workbook()\n",
    "ws = wb.active\n",
    "\n",
    "# We iterate over each row in our excellist\n",
    "for row in excellist:\n",
    "    # And append them to our active worksheet\n",
    "    ws.append(row)\n",
    "\n",
    "# Now we save the new information\n",
    "wb.save('./Babynames_New.xlsx')"
   ]
  },
  {
   "cell_type": "markdown",
   "metadata": {
    "collapsed": false,
    "jupyter": {
     "outputs_hidden": false
    }
   },
   "source": [
    "A new Excel file has been created in the folder that this Worksheet is also in: `Babynames_New.xlsx`. If you open it, you will see that the lists we specified at the beginning of Code block 7 have been saved in Excel. By loading a worksheet (`ws = wb.active`) and appending lists to that variable (`ws.append(row)`), we now save information inside the Excel file when we use the `wb.save()` function."
   ]
  },
  {
   "cell_type": "markdown",
   "metadata": {
    "collapsed": false,
    "jupyter": {
     "outputs_hidden": false
    }
   },
   "source": [
    "## Exercises\n",
    "\n",
    "**[Exercise 1]** Write a program that first takes an input, and then searches for names in the database of babynames that contain this input. It should ignore uppercase and should not give you any duplicate names. So if your input is 'chris', it should give you the following names:\n",
    "- chris\n",
    "- christa\n",
    "- christen\n",
    "- christian\n",
    "- christiana\n",
    "- etc.\n",
    "\n",
    "Save all the names you found in an Excel file, with a name in each row of the dataset. See Worksheet_5_Exercise_1.png for what this should look like when you use 'chris' as input.\n",
    "\n",
    "**[Bonus Exercise 1]** Add 20 cells after each name, with each cell representing the frequency of that name for one year (sorted chronologically)"
   ]
  },
  {
   "cell_type": "code",
   "execution_count": 27,
   "metadata": {
    "collapsed": false,
    "jupyter": {
     "outputs_hidden": false
    }
   },
   "outputs": [
    {
     "name": "stdin",
     "output_type": "stream",
     "text": [
      "Name input: Chris\n"
     ]
    }
   ],
   "source": [
    "## Exercise 1: Finding All Names Containing Input\n",
    "import os\n",
    "import openpyxl\n",
    "import re\n",
    "\n",
    "# Create a variable where we want to store the output (a table format with rows and columns)\n",
    "output_name_table = []\n",
    "\n",
    "# Get input from the user\n",
    "name_input = input('Name input:')\n",
    "\n",
    "# Open the list of names\n",
    "wb = openpyxl.load_workbook('./Babynames_Small.xlsx', read_only=True)\n",
    "# And go to the active worksheet in Excel (this is usually the first worksheet in the file)\n",
    "ws = wb.active\n",
    "\n",
    "# Then convert the Excel rows into lists so we can read them more easily\n",
    "allrows = []\n",
    "\n",
    "for row in ws.values:\n",
    "    newrow = list(row)\n",
    "    allrows.append(newrow)\n",
    "\n",
    "# Go through the list to find names that contain the input of the user\n",
    "for row in allrows:\n",
    "    name = row[0] # The name is in the first column of each row in the Excel file\n",
    "    if name_input.lower() in name.lower():\n",
    "        # Found a match. Now we need to create a new row for our output table, that only contains one cell/column: the name\n",
    "        # But, we only do this if the output_name_table doesn't already contain this name\n",
    "        if name not in output_name_table:\n",
    "            # Then, we append this row to the output table\n",
    "            output_name_table.append(name)\n",
    "\n",
    "# When we're done going through the list in search of matches, we write the output table to a new Excel file\n",
    "wb2 = openpyxl.Workbook()\n",
    "ws2 = wb2.active\n",
    "\n",
    "# We iterate over each row in our excellist\n",
    "for row in output_name_table:\n",
    "    #We can only append lists to our new workbook, not separate values, so let's make sure we are doing that\n",
    "    newrow = [row]\n",
    "    # And append them to our active worksheet\n",
    "    ws2.append(newrow)\n",
    "\n",
    "wb2.save('./Foundnames.xlsx')"
   ]
  },
  {
   "cell_type": "code",
   "execution_count": 55,
   "metadata": {},
   "outputs": [
    {
     "name": "stdin",
     "output_type": "stream",
     "text": [
      "Name input: Jan\n"
     ]
    }
   ],
   "source": [
    "# Bonus exercise 1\n",
    "# NOTE: There are many ways to go about this exercise, this is my attempt :)\n",
    "# For example, you could also temporarily use a dictionary to store the known years + frequencies\n",
    "import os\n",
    "import openpyxl\n",
    "import re\n",
    "\n",
    "# Create a variable where we want to store the output (a table format with rows and columns)\n",
    "output_name_table = []\n",
    "headers = ['Name']\n",
    "headers.extend(range(2000, 2021))\n",
    "output_name_table.append(headers)\n",
    "\n",
    "# Get input from the user\n",
    "name_input = input('Name input:')\n",
    "\n",
    "# Open the list of names\n",
    "wb = openpyxl.load_workbook('./Babynames_Small.xlsx', read_only=True)\n",
    "# And go to the active worksheet in Excel (this is usually the first worksheet in the file)\n",
    "ws = wb.active\n",
    "\n",
    "# Then convert the Excel rows into lists so we can read them more easily\n",
    "allrows = []\n",
    "\n",
    "for row in ws.values:\n",
    "    newrow = list(row)\n",
    "    allrows.append(newrow)\n",
    "\n",
    "# Go through the list to find names that contain the input of the user\n",
    "for row in allrows[1:]: # Skip the header\n",
    "    name = row[0] # The name is in the first column of each row in the Excel file\n",
    "    year = row[2]\n",
    "    frequency = row[3]\n",
    "    year_table_loc = int(year) - 1999 # 2000 is in location 1 of our new table, 2001 in location 2, and so on.\n",
    "    \n",
    "    if name_input.lower() in name.lower():\n",
    "        found = False\n",
    "        \n",
    "        # Found a match. Now we need to see if this name is in our set already.\n",
    "        # If yes, we add the current year's frequency of the name's occurrence.\n",
    "        # If no, we add the name as well as the current year's frequency of the name's occurrence.\n",
    "        for idx, known_name in enumerate(output_name_table): # By using \"enumerate\", we also get the index of the current item\n",
    "            kn = known_name[0]\n",
    "            \n",
    "            if kn == name:\n",
    "                # We found it, adding the frequency\n",
    "                output_name_table[idx][year_table_loc] = frequency\n",
    "                found = True\n",
    "                break\n",
    "\n",
    "        if not found:\n",
    "            new_row = [name]\n",
    "            new_row.extend([0] * 21) # Add '0' frequencies for the years we don't have (yet)\n",
    "            new_row[year_table_loc] = frequency\n",
    "            output_name_table.append(new_row)\n",
    "            \n",
    "# When we're done going through the list in search of matches, we write the output table to a new Excel file\n",
    "wb2 = openpyxl.Workbook()\n",
    "ws2 = wb2.active\n",
    "\n",
    "# We iterate over each row in our excellist\n",
    "for row in output_name_table:\n",
    "    #We can only append lists to our new workbook, not separate values, so let's make sure we are doing that\n",
    "    # And append them to our active worksheet\n",
    "    ws2.append(row)\n",
    "\n",
    "wb2.save('./FoundnamesBonus.xlsx')"
   ]
  },
  {
   "cell_type": "markdown",
   "metadata": {
    "collapsed": false,
    "jupyter": {
     "outputs_hidden": false
    }
   },
   "source": [
    "**[Exercise 2]** In the dataset, male and female names are in the same Excel worksheet. Can you create a new and improved Excel file, where there is\n",
    "- One Excel file with female names only.\n",
    "- One Excel file with male names only.\n",
    "\n",
    "**[Bonus exercise 2]** Rather than creating separate Excel files with female and male names, create a single Excel file where one work**sheet** contains all female names, and one work**sheet** contains all male names.\n",
    "\n",
    "**[Bonus exercise 3]** You can preserve the ordering of the original Excel file (the baby names in alphabetical order), but you can also choose to order the names by their frequency for every year. In other words:\n",
    "- The names from most to least frequent for 2000\n",
    "- The names from most to least frequent for 2001\n",
    "- The names from most to least frequent for 2002\n",
    "- Etc."
   ]
  },
  {
   "cell_type": "code",
   "execution_count": 67,
   "metadata": {
    "collapsed": false,
    "jupyter": {
     "outputs_hidden": false
    }
   },
   "outputs": [],
   "source": [
    "## Exercise 2: Male and Female Names\n",
    "import os\n",
    "import openpyxl\n",
    "\n",
    "# Load the Excel file\n",
    "# Load an existing workbook (the Babynames file)\n",
    "wb = openpyxl.load_workbook('./Babynames_Small.xlsx')\n",
    "# And go to the active worksheet in Excel (this is usually the first worksheet in the file)\n",
    "ws = wb.active\n",
    "\n",
    "allrows = []\n",
    "\n",
    "for row in ws.values:\n",
    "    newrow = list(row)\n",
    "    allrows.append(newrow)\n",
    "\n",
    "#print(allrows)\n",
    "\n",
    "#Apply some filter that separates male and female names\n",
    "femalelist = []\n",
    "malelist = []\n",
    "\n",
    "# Add the headers to both\n",
    "femalelist.append(allrows[0])\n",
    "malelist.append(allrows[0])\n",
    "\n",
    "for row in allrows[1:]:\n",
    "    if row[1] == 'F':\n",
    "        femalelist.append(row)\n",
    "    else:\n",
    "        malelist.append(row)\n",
    "\n",
    "#print(malelist)\n",
    "\n",
    "#Save the female names\n",
    "wb2 = openpyxl.Workbook()\n",
    "ws2 = wb2.active\n",
    "\n",
    "# We iterate over each row in our excellist\n",
    "for row in femalelist:\n",
    "    # And append them to our active worksheet\n",
    "    ws2.append(row)\n",
    "\n",
    "# Now we save the new information\n",
    "wb2.save('./Femalenames.xlsx')\n",
    "\n",
    "#Save the male names\n",
    "wb3 = openpyxl.Workbook()\n",
    "ws3 = wb3.active\n",
    "\n",
    "# We iterate over each row in our excellist\n",
    "for row in malelist:\n",
    "    # And append them to our active worksheet\n",
    "    ws3.append(row)\n",
    "\n",
    "# Now we save the new information\n",
    "wb3.save('./Malenames.xlsx')"
   ]
  },
  {
   "cell_type": "code",
   "execution_count": 89,
   "metadata": {},
   "outputs": [],
   "source": [
    "## Bonus exercise 2: Male and Female Names in separate worksheets, 1 file\n",
    "import os\n",
    "import openpyxl\n",
    "\n",
    "# Load the Excel file\n",
    "# Load an existing workbook (the Babynames file)\n",
    "wb = openpyxl.load_workbook('./Babynames_Small.xlsx')\n",
    "# And go to the active worksheet in Excel (this is usually the first worksheet in the file)\n",
    "ws = wb.active\n",
    "\n",
    "allrows = []\n",
    "\n",
    "for row in ws.values:\n",
    "    newrow = list(row)\n",
    "    allrows.append(newrow)\n",
    "\n",
    "#print(allrows)\n",
    "\n",
    "#Apply some filter that separates male and female names\n",
    "femalelist = []\n",
    "malelist = []\n",
    "\n",
    "# Add the headers to both\n",
    "femalelist.append(allrows[0])\n",
    "malelist.append(allrows[0])\n",
    "\n",
    "for row in allrows[1:]: # Exclude the first row as it contains the headers\n",
    "    if row[1] == 'F':\n",
    "        femalelist.append(row)\n",
    "    else:\n",
    "        malelist.append(row)\n",
    "\n",
    "#Save the female names\n",
    "wb2 = openpyxl.Workbook()\n",
    "ws2_female = wb2.create_sheet(\"Female\")\n",
    "\n",
    "# We iterate over each row in our excellist\n",
    "for row in femalelist:\n",
    "    # And append them to our active worksheet\n",
    "    ws2_female.append(row)\n",
    "\n",
    "#Save the male names\n",
    "ws2_male = wb2.create_sheet(\"Male\")\n",
    "\n",
    "# We iterate over each row in our excellist\n",
    "for row in malelist:\n",
    "    # And append them to our active worksheet\n",
    "    ws2_male.append(row)\n",
    "\n",
    "# Now we save the new information\n",
    "wb2.save('./MaleFemalenames.xlsx')"
   ]
  },
  {
   "cell_type": "code",
   "execution_count": null,
   "metadata": {},
   "outputs": [],
   "source": [
    "## Bonus exercise 3: Male and Female Names in separate worksheets, 1 file, ordered by frequency per year\n",
    "import os\n",
    "import openpyxl\n",
    "\n",
    "# Load the Excel file\n",
    "# Load an existing workbook (the Babynames file)\n",
    "wb = openpyxl.load_workbook('./Babynames_Small.xlsx')\n",
    "# And go to the active worksheet in Excel (this is usually the first worksheet in the file)\n",
    "ws = wb.active\n",
    "\n",
    "allrows = []\n",
    "\n",
    "for row in ws.values:\n",
    "    newrow = list(row)\n",
    "    allrows.append(newrow)\n",
    "\n",
    "#print(allrows)\n",
    "\n",
    "#Apply some filter that separates male and female names\n",
    "femalelist = []\n",
    "malelist = []\n",
    "\n",
    "# The femalelist and malelist should now temporarily contain a list per year\n",
    "for year in range(2000, 2021):\n",
    "    femalelist.append([])\n",
    "    malelist.append([])\n",
    "\n",
    "# Also create the two final lists for the Excel output\n",
    "femalelistexcel = []\n",
    "malelistexcel = []\n",
    "\n",
    "# Add the headers to both\n",
    "femalelistexcel.append(allrows[0])\n",
    "malelistexcel.append(allrows[0])\n",
    "\n",
    "for row in allrows[1:]: # Exclude the first row as it contains the headers\n",
    "    year_index = int(row[2]) - 2000 # 2000 is located at index 0, 2001 at 1, and so on\n",
    "    if row[1] == 'F':\n",
    "        femalelist[year_index].append(row)\n",
    "    else:\n",
    "        malelist[year_index].append(row)\n",
    "\n",
    "\n",
    "# Sort the male list\n",
    "for idx, yearlist in enumerate(malelist):\n",
    "    malelist[idx] = sorted(yearlist, key = lambda x: -int(x[3])) # At position 3 we have the frequency. The - makes it sort descending.\n",
    "\n",
    "# Sort the female list\n",
    "for idx, yearlist in enumerate(femalelist):\n",
    "    femalelist[idx] = sorted(yearlist, key = lambda x: -int(x[3])) # At position 3 we have the frequency. The - makes it sort descending.\n",
    "\n",
    "\n",
    "# Now we need to merge them back into a long list\n",
    "for year in malelist:\n",
    "    for row in year:\n",
    "        malelistexcel.append(row)\n",
    "\n",
    "for year in femalelist:\n",
    "    for row in year:\n",
    "        femalelistexcel.append(row)\n",
    "    \n",
    "#Save the female names\n",
    "wb2 = openpyxl.Workbook()\n",
    "ws2_female = wb2.create_sheet(\"Female\")\n",
    "\n",
    "# We iterate over each row in our excellist\n",
    "for row in femalelistexcel:\n",
    "    # And append them to our active worksheet\n",
    "    ws2_female.append(row)\n",
    "\n",
    "#Save the male names\n",
    "ws2_male = wb2.create_sheet(\"Male\")\n",
    "\n",
    "# We iterate over each row in our excellist\n",
    "for row in malelistexcel:\n",
    "    # And append them to our active worksheet\n",
    "    ws2_male.append(row)\n",
    "\n",
    "# Now we save the new information\n",
    "wb2.save('./MaleFemalenamesSorted.xlsx')"
   ]
  },
  {
   "cell_type": "markdown",
   "metadata": {
    "collapsed": false,
    "jupyter": {
     "outputs_hidden": false
    }
   },
   "source": [
    "**[Exercise 3]** Print the most popular name in the Excel database. Not the most popular name per year, but the most frequent name given in this whole 20-year period, and the number of people who have been given this name.\n",
    "\n",
    "Hint: the best way to do this, is to create a dictionary where names are added as a key, and the total frequencies of this name are the values.\n",
    "\n",
    "**[Bonus exercise 4]** Print the Top 10 most frequent names rather than the single most frequent name. Or print the Top 10 Male names and Top 10 Female names."
   ]
  },
  {
   "cell_type": "code",
   "execution_count": 91,
   "metadata": {
    "collapsed": false,
    "jupyter": {
     "outputs_hidden": false
    }
   },
   "outputs": [
    {
     "name": "stdout",
     "output_type": "stream",
     "text": [
      "{'Abigail': 250420, 'Alexander': 330838, 'Alexis': 101219, 'Alyssa': 96859, 'Andrew': 275623, 'Anna': 31566, 'Anthony': 269362, 'Ashley': 115806, 'Austin': 88275, 'Benjamin': 283669, 'Brandon': 133121, 'Brianna': 46758, 'Cameron': 34680, 'Christian': 163805, 'Christopher': 263748, 'Daniel': 337436, 'David': 277675, 'Dylan': 181427, 'Elizabeth': 153821, 'Emily': 314480, 'Emma': 391641, 'Ethan': 350703, 'Grace': 83582, 'Hannah': 138583, 'Hunter': 34958, 'Jacob': 436869, 'James': 314769, 'Jessica': 52003, 'John': 236053, 'Jonathan': 166163, 'Jordan': 54515, 'Jose': 97069, 'Joseph': 291479, 'Joshua': 296626, 'Justin': 95006, 'Kayla': 47469, 'Kevin': 92477, 'Kyle': 32600, 'Lauren': 50332, 'Madison': 261178, 'Matthew': 327208, 'Megan': 21734, 'Michael': 395434, 'Nathan': 167124, 'Nicholas': 177582, 'Noah': 344691, 'Olivia': 357844, 'Rachel': 10679, 'Robert': 70670, 'Ryan': 207619, 'Samantha': 124619, 'Samuel': 227315, 'Sarah': 97584, 'Sydney': 10242, 'Taylor': 50550, 'Thomas': 67551, 'Tyler': 175998, 'Victoria': 21105, 'William': 366566, 'Zachary': 117422, 'Caleb': 120698, 'Gabriel': 191207, 'Jason': 10164, 'Logan': 250932, 'Elijah': 244303, 'Isabella': 316789, 'Aidan': 20101, 'Connor': 10048, 'Sophia': 281023, 'Angel': 44307, 'Ava': 250202, 'Evan': 40804, 'Jack': 32412, 'Luke': 40889, 'Mia': 195427, 'Natalie': 42330, 'Aiden': 176374, 'Chloe': 67643, 'Gavin': 44823, 'Isaiah': 20573, 'Jackson': 162376, 'Mason': 210034, 'Addison': 43698, 'Isaac': 40466, 'Jayden': 149465, 'Landon': 20640, 'Liam': 193376, 'Lucas': 129781, 'Carter': 31678, 'Charlotte': 86771, 'Harper': 52692, 'Henry': 63169, 'Oliver': 79467, 'Amelia': 60602, 'Evelyn': 41670, 'Owen': 10298, 'Sebastian': 30594}\n",
      "Jacob\n",
      "436869\n"
     ]
    }
   ],
   "source": [
    "## Exercise 3: Most frequent name\n",
    "import os\n",
    "import openpyxl\n",
    "\n",
    "# Load the Excel file\n",
    "# Load an existing workbook (the Babynames file)\n",
    "wb = openpyxl.load_workbook('./Babynames_VerySmall.xlsx')\n",
    "# And go to the active worksheet in Excel (this is usually the first worksheet in the file)\n",
    "ws = wb.active\n",
    "\n",
    "allrows = []\n",
    "\n",
    "for row in ws.values:\n",
    "    newrow = list(row)\n",
    "    allrows.append(newrow)\n",
    "\n",
    "#print(allrows)\n",
    "\n",
    "allrows = allrows[1:]\n",
    "\n",
    "frequencydict = {}\n",
    "\n",
    "for row in allrows:\n",
    "    firstname = row[0]\n",
    "    frequency = int(row[3])\n",
    "    if firstname not in frequencydict:\n",
    "        frequencydict[firstname] = frequency\n",
    "    elif firstname in frequencydict:\n",
    "        frequencydict[firstname] += frequency\n",
    "\n",
    "print(frequencydict)\n",
    "\n",
    "max_key = max(frequencydict, key=frequencydict.get)\n",
    "max_value = max(frequencydict.values())\n",
    "print(max_key)\n",
    "print(max_value)"
   ]
  },
  {
   "cell_type": "code",
   "execution_count": 105,
   "metadata": {},
   "outputs": [
    {
     "name": "stdout",
     "output_type": "stream",
     "text": [
      "{'Jacob': 436869, 'Michael': 395434, 'Emma': 391641, 'William': 366566, 'Olivia': 357844, 'Ethan': 350703, 'Noah': 344691, 'Daniel': 337436, 'Alexander': 330838, 'Matthew': 327208}\n"
     ]
    }
   ],
   "source": [
    "## Bonus exercise 4: Top 10 Most Frequent Names\n",
    "import os\n",
    "import openpyxl\n",
    "\n",
    "# Load the Excel file\n",
    "# Load an existing workbook (the Babynames file)\n",
    "wb = openpyxl.load_workbook('./Babynames_VerySmall.xlsx')\n",
    "# And go to the active worksheet in Excel (this is usually the first worksheet in the file)\n",
    "ws = wb.active\n",
    "\n",
    "allrows = []\n",
    "\n",
    "for row in ws.values:\n",
    "    newrow = list(row)\n",
    "    allrows.append(newrow)\n",
    "\n",
    "#print(allrows)\n",
    "\n",
    "allrows = allrows[1:]\n",
    "\n",
    "frequencydict = {}\n",
    "\n",
    "for row in allrows:\n",
    "    firstname = row[0]\n",
    "    frequency = int(row[3])\n",
    "    if firstname not in frequencydict:\n",
    "        frequencydict[firstname] = frequency\n",
    "    elif firstname in frequencydict:\n",
    "        frequencydict[firstname] += frequency\n",
    "\n",
    "# Sort the dictionary by the values (frequencies)\n",
    "frequencydict = dict(sorted(frequencydict.items(), key=lambda item: -item[1]))\n",
    "\n",
    "# I googled how to do this ;)\n",
    "top10 = {k: frequencydict[k] for k in list(frequencydict)[:10]}\n",
    "\n",
    "print(top10)"
   ]
  },
  {
   "cell_type": "markdown",
   "metadata": {
    "collapsed": false,
    "jupyter": {
     "outputs_hidden": false
    }
   },
   "source": [
    "That is all! If you run into any issues, do not forget to ask about this on the Discussion board, or during the Practical session!\n",
    "\n",
    "## Saving & Submitting\n",
    "\n",
    "Submit the Worksheet as an HTML file (Download As --> HTML) **via Canvas, Assignments**. Submission date: **11 March (23:59)**.\n",
    "\n",
    "## Skills & Further Resources\n",
    "\n",
    "This worksheet was about opening, modifying, and saving Excel files using Python.\n",
    "\n",
    "After working through it, you should be able to:\n",
    "\n",
    "1. Understand how to use `OpenPyXL` to open Excel files and format the content of the Excel files in such a way that it is usable by Python.\n",
    "2. Read single rows and single columns from the Excel file\n",
    "3. Save a Python list-of-lists as a nicely formatted Excel file\n",
    "\n",
    "If you want a bit more information on some of these topics, besides the chapters in Automate the Boring Stuff, I recommend:\n",
    "\n",
    "- A Guide to Excel Spreadsheets in Python With openpyxl on [https://realpython.com/openpyxl-excel-spreadsheets-python/](https://realpython.com/openpyxl-excel-spreadsheets-python/)\n",
    "- Working with CSV files from Datacamp: [https://campus.datacamp.com/courses/data-types-for-data-science-in-python/dictionaries-the-root-of-python?ex=11](https://campus.datacamp.com/courses/data-types-for-data-science-in-python/dictionaries-the-root-of-python?ex=11) (CSV files are a different way of storing table-data in a more efficient way compared to Excel).\n",
    "\n",
    "## Overview of New Information\n",
    "\n",
    "| Python Code                |                            does what                             |\n",
    "|----------------------------|:----------------------------------------------------------------:|\n",
    "| `openpyxl.load_workbook(x)` |           Load Excel file `x` into a Python variable.           |\n",
    "| `wb.active`                |           Load the first worksheet of the Excel file.            |\n",
    "| `ws.values`                | Load the values of the Excel cells after loading the Excel file. |\n",
    "| `list(x)`                  |          Convert (in most cases) a tuple `x` to a list           |\n",
    "| `wb.save()`                |                Save information to an Excel file.                |"
   ]
  }
 ],
 "metadata": {
  "kernelspec": {
   "display_name": "Python [conda env:base] *",
   "language": "python",
   "name": "conda-base-py"
  },
  "language_info": {
   "codemirror_mode": {
    "name": "ipython",
    "version": 3
   },
   "file_extension": ".py",
   "mimetype": "text/x-python",
   "name": "python",
   "nbconvert_exporter": "python",
   "pygments_lexer": "ipython3",
   "version": "3.12.7"
  }
 },
 "nbformat": 4,
 "nbformat_minor": 4
}

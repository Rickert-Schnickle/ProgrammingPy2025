{
 "cells": [
  {
   "cell_type": "markdown",
   "metadata": {
    "collapsed": false,
    "jupyter": {
     "outputs_hidden": false
    }
   },
   "source": [
    "# Worksheet 6: Smorgasbord"
   ]
  },
  {
   "cell_type": "markdown",
   "metadata": {
    "collapsed": false,
    "jupyter": {
     "outputs_hidden": false
    }
   },
   "source": [
    "Remember: Google is your friend! Functions are explained in more detail (amongst others) on the Python website, and the\n",
    "website \"Stackoverflow.com\" probably has the answer to all of life's (programming related) issues. So if you add \"site:stackoverflow.com\" to your\n",
    "Google query, you should be able to find someone who was experiencing a similar issue, and the way to solve it."
   ]
  },
  {
   "cell_type": "markdown",
   "metadata": {
    "collapsed": false,
    "jupyter": {
     "outputs_hidden": false
    }
   },
   "source": [
    "I tried to kinda fit a voting theme into this week's Worksheet, as the Provincial States elections are coming up here in the Netherlands at the time that I'm making this. However, at a certain point, my inspiration for exercises on that topic faded away. So there's not really a theme this week. Just a bunch of random exercises. :)"
   ]
  },
  {
   "cell_type": "markdown",
   "metadata": {
    "collapsed": false,
    "jupyter": {
     "outputs_hidden": false
    }
   },
   "source": [
    "## Opening, modifying, and saving CSV (.csv) files\n",
    "\n",
    "As explained in the video lecture, CSV files are closely related to Excel files. CSV files are still the standard when working with tabular formatted data with a programming language. File sizes are small, and quick to process, so that is nice. But, annoyingly, Excel (.xls(x)) and .csv files require a different approach when we use Python. Last week, we have looked into opening, modifying, and saving the former. Now we will look into doing the same with the latter. First off: how do we open these files? For this code block, download `Areas_in_the_Netherlands.csv` from Canvas and place this file in the same folder as this worksheet."
   ]
  },
  {
   "cell_type": "code",
   "execution_count": 1,
   "metadata": {
    "collapsed": false,
    "jupyter": {
     "outputs_hidden": false
    }
   },
   "outputs": [],
   "source": [
    "## Code block 1: Opening CSV files\n",
    "with open('./Areas_in_the_Netherlands.csv', mode='r') as f:\n",
    "    area_list = f.read()\n",
    "\n",
    "print(area_list)"
   ]
  },
  {
   "cell_type": "markdown",
   "metadata": {
    "collapsed": false,
    "jupyter": {
     "outputs_hidden": false
    }
   },
   "source": [
    "We have now loaded the CSV file the same way you would load a text file. We get to see all the text, but it is still completely without structure. We get a long string where the records and this record's attributes are not loaded as separate items. So we want to load it in a slightly nicer way. For that we have to use the csv library."
   ]
  },
  {
   "cell_type": "code",
   "execution_count": 3,
   "metadata": {
    "collapsed": false,
    "jupyter": {
     "outputs_hidden": false
    }
   },
   "outputs": [
    {
     "name": "stdout",
     "output_type": "stream",
     "text": [
      "<_csv.reader object at 0x104149fc0>\n"
     ]
    }
   ],
   "source": [
    "## Code block 2: Opening CSV files (part 2)\n",
    "\n",
    "import csv\n",
    "\n",
    "with open('./Areas_in_the_Netherlands.csv', mode='r') as f:\n",
    "    area_csv = csv.reader(f)\n",
    "\n",
    "print(area_csv)"
   ]
  },
  {
   "cell_type": "markdown",
   "metadata": {
    "collapsed": false,
    "jupyter": {
     "outputs_hidden": false
    }
   },
   "source": [
    "This still doesn't quite work. With the csv library, for some strange, unknown reason you have to store the information we read from the csv file in another variable (and do this before closing the file) before you can do anything with that information. So you have to write a little more code."
   ]
  },
  {
   "cell_type": "code",
   "execution_count": 3,
   "metadata": {
    "collapsed": false,
    "jupyter": {
     "outputs_hidden": false
    }
   },
   "outputs": [],
   "source": [
    "## Code block 3: Opening CSV files (part 3)\n",
    "\n",
    "import csv\n",
    "\n",
    "area_list = []\n",
    "\n",
    "with open('./Areas_in_the_Netherlands.csv', mode='r') as f:\n",
    "    area_csv = csv.reader(f)\n",
    "    for record in area_csv:\n",
    "        area_list.append(record)\n",
    "\n",
    "for record in area_list:\n",
    "    print(record)"
   ]
  },
  {
   "cell_type": "markdown",
   "metadata": {
    "collapsed": false,
    "jupyter": {
     "outputs_hidden": false
    }
   },
   "source": [
    "Now it works the way we want it to! Remember from last week, a CSV (and therefore also an Excel file) is just a kind of list-of-lists: you have one big list that represents the entire file. And in that big list you will find individual lists that each represent a record. Those record lists consist of several items that represent the attributes."
   ]
  },
  {
   "cell_type": "markdown",
   "metadata": {
    "collapsed": false,
    "jupyter": {
     "outputs_hidden": false
    }
   },
   "source": [
    "**[Exercise 1]** Suppose you are the world's biggest fan of the municipality of *Montferland*. You really want to know everything about that---in your opinion---fantastic municipality, including the region name (\"region_name\" in the header of the CSV file). With the knowledge of the structure of CSV files described above, can you extend code block 3 so that you can find and print the region name of Montferland?"
   ]
  },
  {
   "cell_type": "code",
   "execution_count": 1,
   "metadata": {
    "collapsed": false,
    "jupyter": {
     "outputs_hidden": false
    }
   },
   "outputs": [
    {
     "name": "stdout",
     "output_type": "stream",
     "text": [
      "Oost-Nederland\n"
     ]
    }
   ],
   "source": [
    "## Exercise 1: Printing the region name of the municipality of Montferland.\n",
    "\n",
    "import csv\n",
    "\n",
    "area_list = []\n",
    "\n",
    "with open('./Areas_in_the_Netherlands.csv', mode='r') as f:\n",
    "    area_csv = csv.reader(f)\n",
    "    for record in area_csv:\n",
    "        area_list.append(record)\n",
    "\n",
    "# Now that we have a list of records, where each record represents a municipality and its information,\n",
    "# we can go through this list to identify the record of Montferland and find its region name.\n",
    "for municipality in area_list:\n",
    "    municipality_name = municipality[0] # First item in the list is the municipality name\n",
    "\n",
    "    if (municipality_name == 'Montferland'):\n",
    "        # We found the right record, now to get the region name...\n",
    "        region_name = municipality[4] # Fifth item in the list, so index 4, is the region name\n",
    "        print(region_name)\n",
    "\n",
    "        # If we found the municipality of Montferland, we can exit the loop because we're done\n",
    "        break"
   ]
  },
  {
   "cell_type": "code",
   "execution_count": 5,
   "metadata": {},
   "outputs": [
    {
     "name": "stdout",
     "output_type": "stream",
     "text": [
      "Oost-Nederland\n"
     ]
    }
   ],
   "source": [
    "# Bonus materials: Figuring out the CSV structure *without* knowledge of the CSV file structure\n",
    "\n",
    "import csv\n",
    "\n",
    "area_list = []\n",
    "\n",
    "with open('./Areas_in_the_Netherlands.csv', mode='r') as f:\n",
    "    area_csv = csv.reader(f)\n",
    "    for record in area_csv:\n",
    "        area_list.append(record)\n",
    "\n",
    "# We know that we need to find the region name belonging to a municipality, but we have no idea\n",
    "# how the CSV is structured. What we do know is that the first row contains the column titles/headings.\n",
    "municipality_index = -1\n",
    "region_index = -1\n",
    "headings = area_list[0]\n",
    "\n",
    "# Go through the headings to identify the index of the municipality and region columns\n",
    "counter = 0\n",
    "\n",
    "for heading in headings:\n",
    "    if 'municipality' in heading:\n",
    "        municipality_index = counter\n",
    "    elif 'region' in heading:\n",
    "        region_index = counter\n",
    "\n",
    "    counter += 1\n",
    "\n",
    "# Or, the enumerate function that you can apply in a for-loop helps (but is a bit more complex than above)\n",
    "# for idx, heading in enumerate(headings):\n",
    "#     if 'municipality' in heading:\n",
    "#         municipality_index = idx\n",
    "#     elif 'region' in heading:\n",
    "#         region_index = idx\n",
    "\n",
    "# Now that we have a list of records, where each record represents a municipality and its information,\n",
    "# we can go through this list to identify the record of Montferland and find its region name.\n",
    "for municipality in area_list:\n",
    "    municipality_name = municipality[municipality_index] # Using the retrieved index of the municipality column\n",
    "\n",
    "    if (municipality_name == 'Montferland'):\n",
    "        # We found the right record, now to get the region name...\n",
    "        region_name = municipality[region_index] # Using the retrieved index of the region column\n",
    "        print(region_name)\n",
    "\n",
    "        # If we found the municipality of Montferland, we can exit the loop because we're done\n",
    "        break"
   ]
  },
  {
   "cell_type": "markdown",
   "metadata": {
    "collapsed": false,
    "jupyter": {
     "outputs_hidden": false
    }
   },
   "source": [
    "**[Exercise 2]** We are going to play *Word Chain*. Word Chain is a word game\n",
    "in which players come up with words that begin with the letter or letters that the previous word ended with. In this case,\n",
    "you give the first word using the input() function. The script then finds the last letter of that word and searches the\n",
    "`Random_Words.csv` worksheet for a word that starts with this last letter.\n",
    "\n",
    "Take a look at the CSV file, it is a file that contains 150 words: 15 rows of 10 columns each. Every \"cell\" is a random word. The output should look something like this:\n",
    "\n",
    "`Input: chris`\n",
    "`Chained word: sail`\n",
    "\n",
    "**[Bonus exercise 1]** Try to find the longest word in the csv file that starts with the last letter of the input word."
   ]
  },
  {
   "cell_type": "code",
   "execution_count": 7,
   "metadata": {},
   "outputs": [
    {
     "name": "stdout",
     "output_type": "stream",
     "text": [
      "[['thrown', 'business', 'into', 'run', 'package', 'sail', 'agree', 'huge', 'think', 'already'], ['then', 'planning', 'section', 'xerox', 'root', 'shelter', 'bet', 'wind', 'neighborhood', 'three'], ['front', 'thousand', 'symbol', 'unknown', 'center', 'effect', 'highway', 'duck', 'growth', 'leg'], ['rest', 'play', 'white', 'plate', 'instant', 'factor', 'chest', 'your', 'came', 'morning'], ['danger', 'lungs', 'broke', 'truth', 'hospital', 'butter', 'sent', 'health', 'basic', 'raise'], ['white', 'whistle', 'till', 'during', 'far', 'gather', 'suit', 'beyond', 'white', 'freedom'], ['spider', 'air', 'had', 'shut', 'must', 'pony', 'image', 'push', 'run', 'guess'], ['surface', 'cutting', 'written', 'handle', 'better', 'pitch', 'practice', 'most', 'said', 'serve'], ['fly', 'club', 'breakfast', 'greatly', 'support', 'period', 'sharp', 'exist', 'has', 'hay'], ['onto', 'smell', 'zeal', 'word', 'facing', 'friend', 'planet', 'review', 'mix', 'breathe'], ['open', 'love', 'shut', 'material', 'give', 'machine', 'station', 'serve', 'easily', 'wide'], ['famous', 'available', 'value', 'science', 'duty', 'dance', 'southern', 'distant', 'official', 'no'], ['calm', 'event', 'both', 'three', 'society', 'letter', 'grown', 'mood', 'judge', 'known'], ['draw', 'case', 'material', 'partly', 'another', 'greatly', 'bright', 'tobacco', 'engineer', 'picture'], ['foot', 'character', 'smile', 'growth', 'city', 'whose', 'count', 'quest', 'education', 'location'], ['ride', 'month', 'body', 'trunk', 'flat', 'slept', 'cold', 'line', 'actual', 'gate']]\n",
      "\n",
      "['thrown', 'business', 'into', 'run', 'package', 'sail', 'agree', 'huge', 'think', 'already', 'then', 'planning', 'section', 'xerox', 'root', 'shelter', 'bet', 'wind', 'neighborhood', 'three', 'front', 'thousand', 'symbol', 'unknown', 'center', 'effect', 'highway', 'duck', 'growth', 'leg', 'rest', 'play', 'white', 'plate', 'instant', 'factor', 'chest', 'your', 'came', 'morning', 'danger', 'lungs', 'broke', 'truth', 'hospital', 'butter', 'sent', 'health', 'basic', 'raise', 'white', 'whistle', 'till', 'during', 'far', 'gather', 'suit', 'beyond', 'white', 'freedom', 'spider', 'air', 'had', 'shut', 'must', 'pony', 'image', 'push', 'run', 'guess', 'surface', 'cutting', 'written', 'handle', 'better', 'pitch', 'practice', 'most', 'said', 'serve', 'fly', 'club', 'breakfast', 'greatly', 'support', 'period', 'sharp', 'exist', 'has', 'hay', 'onto', 'smell', 'zeal', 'word', 'facing', 'friend', 'planet', 'review', 'mix', 'breathe', 'open', 'love', 'shut', 'material', 'give', 'machine', 'station', 'serve', 'easily', 'wide', 'famous', 'available', 'value', 'science', 'duty', 'dance', 'southern', 'distant', 'official', 'no', 'calm', 'event', 'both', 'three', 'society', 'letter', 'grown', 'mood', 'judge', 'known', 'draw', 'case', 'material', 'partly', 'another', 'greatly', 'bright', 'tobacco', 'engineer', 'picture', 'foot', 'character', 'smile', 'growth', 'city', 'whose', 'count', 'quest', 'education', 'location', 'ride', 'month', 'body', 'trunk', 'flat', 'slept', 'cold', 'line', 'actual', 'gate']\n"
     ]
    },
    {
     "name": "stdin",
     "output_type": "stream",
     "text": [
      "Your word: chris\n"
     ]
    },
    {
     "name": "stdout",
     "output_type": "stream",
     "text": [
      "Chained word: sail\n"
     ]
    },
    {
     "name": "stdin",
     "output_type": "stream",
     "text": [
      "Your word: love\n"
     ]
    },
    {
     "name": "stdout",
     "output_type": "stream",
     "text": [
      "Chained word: effect\n"
     ]
    },
    {
     "name": "stdin",
     "output_type": "stream",
     "text": [
      "Your word: threatening\n"
     ]
    },
    {
     "name": "stdout",
     "output_type": "stream",
     "text": [
      "Chained word: growth\n"
     ]
    },
    {
     "name": "stdin",
     "output_type": "stream",
     "text": [
      "Your word: horror\n"
     ]
    },
    {
     "name": "stdout",
     "output_type": "stream",
     "text": [
      "Chained word: run\n"
     ]
    },
    {
     "name": "stdin",
     "output_type": "stream",
     "text": [
      "Your word: \n"
     ]
    }
   ],
   "source": [
    "import csv\n",
    "\n",
    "## Exercise 2: CSV Word Chain -- note that I made this so that it keeps running/chaining until you enter an empty string ('')\n",
    "\n",
    "# We create a temporary list of records, which still contain multiple words.\n",
    "word_recs = []\n",
    "\n",
    "# Then we turn this previous list into a larger list, where each item is only one word.\n",
    "word_list = []\n",
    "\n",
    "# First load the CSV file that we will need, copying the basic code structure from the samples above.\n",
    "with open('./Random_Words.csv', mode='r') as f:\n",
    "    words_csv = csv.reader(f)\n",
    "    for record in words_csv:\n",
    "        word_recs.append(record)\n",
    "\n",
    "print(word_recs)\n",
    "print()\n",
    "\n",
    "# Here we convert the list of records, into a list of individual words.\n",
    "# We do this by first looping through all of these records (rows) in the word_recs list,\n",
    "# then looping once more to get to the individual items for each individual row.\n",
    "for record in word_recs:\n",
    "    for word in record:\n",
    "        word_list.append(word)\n",
    "\n",
    "print(word_list)\n",
    "\n",
    "# Then, repeatedly ask for input from the user and find a word that starts with the last letter of that input.\n",
    "while True:\n",
    "\n",
    "    # Get a word from the user.\n",
    "    user_word = input('Your word:')\n",
    "\n",
    "    # If you want to play around some more, you could perform some checks on the input: is it indeed only one word,\n",
    "    # is the user following the Word Chain game rules (e.g., does their second word start with the last character \n",
    "    # of the word from the CSV file?), and so on.\n",
    "    if (user_word == ''):\n",
    "        break # Exit the loop if the word is empty\n",
    "    else:\n",
    "        # Loop through our list of words to find a suitable candidate\n",
    "        for word in word_list:\n",
    "            # If the first letter of this word in our list matches the last letter (-1) of the user's word, we're done!\n",
    "            if (word[0] == user_word[-1]):\n",
    "                print(f'Chained word: {word}')\n",
    "                break # Note how this break does break out of the word_list-loop, but not out of the while True-loop.\n",
    "    "
   ]
  },
  {
   "cell_type": "code",
   "execution_count": 16,
   "metadata": {},
   "outputs": [
    {
     "name": "stdin",
     "output_type": "stream",
     "text": [
      "Your word: Chris\n"
     ]
    },
    {
     "name": "stdout",
     "output_type": "stream",
     "text": [
      "Chained word: southern\n"
     ]
    },
    {
     "name": "stdin",
     "output_type": "stream",
     "text": [
      "Your word: Jan\n"
     ]
    },
    {
     "name": "stdout",
     "output_type": "stream",
     "text": [
      "Chained word: neighborhood\n"
     ]
    },
    {
     "name": "stdin",
     "output_type": "stream",
     "text": [
      "Your word: \n"
     ]
    }
   ],
   "source": [
    "## Bonus exercise 1: The first part is identical to Exercise 2 above, the main difference in the second part\n",
    "## is that instead of breaking out of the loop when we find the first matching list, we keep going to find\n",
    "## the longest word that matches the criteria.\n",
    "\n",
    "import csv\n",
    "\n",
    "# We create a temporary list of records, which still contain multiple words.\n",
    "word_recs = []\n",
    "\n",
    "# Then we turn this previous list into a larger list, where each item is only one word.\n",
    "word_list = []\n",
    "\n",
    "# First load the CSV file that we will need, copying the basic code structure from the samples above.\n",
    "with open('./Random_Words.csv', mode='r') as f:\n",
    "    words_csv = csv.reader(f)\n",
    "    for record in words_csv:\n",
    "        word_recs.append(record)\n",
    "\n",
    "# Here we convert the list of records, into a list of individual words.\n",
    "# We do this by first looping through all of these records (rows) in the word_recs list,\n",
    "# then looping once more to get to the individual items for each individual row.\n",
    "for record in word_recs:\n",
    "    for word in record:\n",
    "        word_list.append(word)\n",
    "\n",
    "# Then, repeatedly ask for input from the user and find a word that starts with the last letter of that input.\n",
    "while True:\n",
    "\n",
    "    # Get a word from the user.\n",
    "    user_word = input('Your word:')\n",
    "\n",
    "    # If you want to play around some more, you could perform some checks on the input: is it indeed only one word,\n",
    "    # is the user following the Word Chain game rules (e.g., does their second word start with the last character \n",
    "    # of the word from the CSV file?), and so on.\n",
    "    if (user_word == ''):\n",
    "        break # Exit the loop if the word exists\n",
    "    else:\n",
    "        longest_match = ''\n",
    "        \n",
    "        # Loop through our list of words to find a suitable candidate\n",
    "        for word in word_list:\n",
    "            # If the first letter of this word in our list matches the last letter (-1) of the user's word,\n",
    "            # check if the word is also longer than the current longest match. If so, replace the previous\n",
    "            # longest match with the new word.\n",
    "            if (word[0] == user_word[-1] and len(word) > len(longest_match)):\n",
    "                longest_match = word\n",
    "                # We no longer break here, because we want to check all of the words in our list\n",
    "\n",
    "        # Return the longest match\n",
    "        print(f'Chained word: {longest_match}')"
   ]
  },
  {
   "cell_type": "markdown",
   "metadata": {
    "collapsed": false,
    "jupyter": {
     "outputs_hidden": false
    }
   },
   "source": [
    "Okay, so much for opening CSV files. In addition to opening, you sometimes also want to save files as a CSV file. How does saving work then?"
   ]
  },
  {
   "cell_type": "code",
   "execution_count": 20,
   "metadata": {
    "collapsed": false,
    "jupyter": {
     "outputs_hidden": false
    }
   },
   "outputs": [
    {
     "name": "stdout",
     "output_type": "stream",
     "text": [
      "[['municipality_name', 'municipality_code', 'municipality_name_machine_friendly', 'region_id', 'region_name'], ['Aa en Hunze', 'GM1680', 'AaenHunze', 'RE01', 'Noord-Nederland']]\n"
     ]
    }
   ],
   "source": [
    "## Code block 4: Saving CSV files\n",
    "\n",
    "import csv\n",
    "\n",
    "# First, we load Areas_in_the_Netherlands.csv\n",
    "area_list = []\n",
    "\n",
    "with open('./Areas_in_the_Netherlands.csv', mode='r') as f:\n",
    "    area_csv = csv.reader(f)\n",
    "    for record in area_csv:\n",
    "        area_list.append(record)\n",
    "\n",
    "#Then, let's make a variable of the header and the first record (and print it)\n",
    "area_short = area_list[0:2]\n",
    "print(area_short)\n",
    "\n",
    "#And now, let's save our shortened information\n",
    "with open('./Areas_in_the_Netherlands_Short.csv', mode='w', newline='') as f:\n",
    "    writer = csv.writer(f)\n",
    "    #Iterate over every row in the area_short variable\n",
    "    for row in area_short:\n",
    "        writer.writerow(row)"
   ]
  },
  {
   "cell_type": "markdown",
   "metadata": {
    "collapsed": false,
    "jupyter": {
     "outputs_hidden": false
    }
   },
   "source": [
    "When we use the `with open()` function, two things deserve extra attention: when reading the files, we use the attribute `mode='r'`. That tells Python to open the file in read only mode. In that mode no changes can be made to the file. To be able to create a file, we use `mode='w'`. This mode let's us save files. There's also other modes that let us read and save files both, but I never really use that because if I make a mistake and accidentally save over my original file, I'll be sad. So best to avoid that risk as much as possible by using separate modes for both.\n",
    "\n",
    "We also use `newline=''` when saving a csv file. This is due to a sort-of bug with Python on some computers. On some computers an empty row would be added between each record in Python if we don't use this.\n",
    "\n",
    "You will now be able to find the saved file in the same folder where you opened this Worksheet. You can also open this in Excel to check whether everything is working properly. If you have opened the file in Excel, select all cells (Ctrl+A). Then go to `Data` at the top of the screen, then you will see `Text to columns` in the buttons drawer, on the right side. Click on that. You choose `Separated`, `Next`. With `Separators`, choose `comma`, and then `Finish`. Now, the CSV data is converted to an Excel-friendly format."
   ]
  },
  {
   "cell_type": "markdown",
   "metadata": {
    "collapsed": false,
    "jupyter": {
     "outputs_hidden": false
    }
   },
   "source": [
    "**[Exercise 3]** Suppose you are going around asking all of your friends which party they are going to vote for during the elections. Because you keep going around asking boring questions like that, you only have three friends left. They gave you the following answers:\n",
    "\n",
    "| Name    | Date asked | Party           |\n",
    "|---------|------------|-----------------|\n",
    "| Alfred  | March 9th  | OPA             |\n",
    "| Barbara | March 9th  | 50PLUS          |\n",
    "| Roland  | March 7th  | Senioren Belang |\n",
    "\n",
    "Save this information as a .csv file in the same folder as the Worksheet."
   ]
  },
  {
   "cell_type": "code",
   "execution_count": 22,
   "metadata": {
    "collapsed": false,
    "jupyter": {
     "outputs_hidden": false
    }
   },
   "outputs": [
    {
     "name": "stdout",
     "output_type": "stream",
     "text": [
      "[['Name', 'Date asked', 'Party'], ['Alfred', 'March 9th', 'OPA'], ['Barbara', 'March 9th', '50PLUS'], ['Roland', 'March 7th', 'Senioren Belang']]\n"
     ]
    }
   ],
   "source": [
    "## Exercise 3: Saving your friends' party preferences\n",
    "\n",
    "# Create a list of records (= rows in the CSV file)\n",
    "records = [] \n",
    "\n",
    "# Add a first row containing the headings, titles of the columns\n",
    "header = ['Name', 'Date asked', 'Party']\n",
    "records.append(header)\n",
    "\n",
    "# Then create and add the three data rows\n",
    "alfred = ['Alfred', 'March 9th', 'OPA']\n",
    "records.append(alfred)\n",
    "\n",
    "barbara = ['Barbara', 'March 9th', '50PLUS']\n",
    "records.append(barbara)\n",
    "\n",
    "roland = ['Roland', 'March 7th', 'Senioren Belang']\n",
    "records.append(roland)\n",
    "\n",
    "print(records)\n",
    "\n",
    "# Save the resulting CSV file using the code from Code block 4\n",
    "with open('./Friends_Parties.csv', mode='w', newline='') as f:\n",
    "    writer = csv.writer(f)\n",
    "    #Iterate over every row in the records variable\n",
    "    for row in records:\n",
    "        writer.writerow(row)"
   ]
  },
  {
   "cell_type": "markdown",
   "metadata": {
    "collapsed": false,
    "jupyter": {
     "outputs_hidden": false
    }
   },
   "source": [
    "## Opening, modifying, and saving JSON (.json) files\n",
    "\n",
    "Okay, we're almost there. One more data structure to go and it should look familiar to you. We have already worked with dictionaries and lists and JSON files are just that, saved as a file. First, loading the files. For this we use `indy.json`, which you can find on Canvas. Put this file in the same folder as this Worksheet."
   ]
  },
  {
   "cell_type": "code",
   "execution_count": 25,
   "metadata": {
    "collapsed": false,
    "jupyter": {
     "outputs_hidden": false
    }
   },
   "outputs": [],
   "source": [
    "## Code block 5: Opening a JSON file\n",
    "import json\n",
    "\n",
    "with open('./indy.json', 'r') as infile:\n",
    "    indy_data = json.load(infile)"
   ]
  },
  {
   "cell_type": "markdown",
   "metadata": {
    "collapsed": false,
    "jupyter": {
     "outputs_hidden": false
    }
   },
   "source": [
    "And now the file is loaded as a dictionary, to which we can apply our knowledge about dictionaries to work with the file. As said in the video lecture, JSON files are just lists and/or dictionaries in disguise.\n",
    "\n",
    "If we want to save a JSON file, we can do that as follows."
   ]
  },
  {
   "cell_type": "code",
   "execution_count": 27,
   "metadata": {
    "collapsed": false,
    "jupyter": {
     "outputs_hidden": false
    }
   },
   "outputs": [
    {
     "name": "stdout",
     "output_type": "stream",
     "text": [
      "{'name': 'Raiders of the Lost Ark', 'year': 1981, 'actors': {'Indiana Jones': 'Harrison Ford', 'Dr. Rene Belloq': 'Paul Freeman'}, 'producers': ['Frank Marshall', 'George Lucas', 'Howard Kazanjian'], 'budget': 18000000, 'academy_award_ve': True}\n"
     ]
    }
   ],
   "source": [
    "## Code block 6: Saving a JSON file\n",
    "\n",
    "# We load the file just like in code block 10\n",
    "import json\n",
    "\n",
    "with open('./indy.json', 'r') as infile:\n",
    "    indy_data = json.load(infile)\n",
    "\n",
    "# We take the first movie from our JSON-file\n",
    "indy_first = indy_data['indy movies'][0]\n",
    "print(indy_first)\n",
    "\n",
    "#And save this as a new JSON-bestand\n",
    "with open('./firstindy.json', 'w') as outfile:\n",
    "    json.dump(indy_first, outfile, separators=(',', ': '), indent=4)"
   ]
  },
  {
   "cell_type": "markdown",
   "metadata": {
    "collapsed": false,
    "jupyter": {
     "outputs_hidden": false
    }
   },
   "source": [
    "We add some extra information to the `json.dump()` function. First, we specify the information we want to write (the `indy_first` variable), then the file we want to write it to (`outfile`, which actually passes on the information from `'./firstindy.json'`). The `separators` indicate how we want to separate the information. Here you mainly use the `',', ': '` that you see. This keeps the file similar to a dictionary. Finally, we use `indent=4`. This is the indentation that is applied, so that it all remains a little clearer for you as a human being if you want to read the JSON file in Notepad (or a variant thereof)."
   ]
  },
  {
   "cell_type": "markdown",
   "metadata": {
    "collapsed": false,
    "jupyter": {
     "outputs_hidden": false
    }
   },
   "source": [
    "-------------------------------\n",
    "\n",
    "**[Exercise 4]** To get in the mood to vote (for the people who are allowed to vote in the Provincial States, if you feel left out, I'm sorry :( ), I have collected the municipality election results from 2018 and have created two JSON files with voter turnout numbers. These JSON files contain the number of votes for 10 random municipalities in the Gelderland province (_Gelderland.json_) and the Noord-Brabant province (*Noord_Brabant.json*). Furthermore, I have only included the results for 4 of the biggest parties in the Netherlands to keep the file somewhat comprehensible: *D66*, *VVD*, *CDA* and *PvdA*.\n",
    "\n",
    "Write a script that loads the JSON file, and prints the highest, lowest, and average number of votes for each province.\n",
    "The output should look something like this:\n",
    "\n",
    "`Gelderland`\n",
    "`CDA: min 1026, max 7421, average 3022.4`\n",
    "`VVD: min 955, max 8019, average 3020.6`\n",
    "`D66: min 710, max 8013, average 2378.7`\n",
    "`PvdA: min 524, max 5401, average 1844.6`\n",
    "`Noord-Brabant`\n",
    "`CDA: min 1065, max 10631, average 4181.0`\n",
    "`VVD: min 995, max 17503, average 5154.7`\n",
    "`D66: min 635, max 9918, average 3568.2`\n",
    "`PvdA: min 563, max 10180, average 2748.5`\n",
    "\n",
    "**[Bonus exercise 2]** Save the output as a nicely formatted CSV file."
   ]
  },
  {
   "cell_type": "code",
   "execution_count": 15,
   "metadata": {
    "collapsed": false,
    "jupyter": {
     "outputs_hidden": false
    }
   },
   "outputs": [
    {
     "name": "stdout",
     "output_type": "stream",
     "text": [
      "Gelderland\n",
      "CDA: min 1026, max 7421, average 3022.4\n",
      "VVD: min 955, max 8019, average 3020.6\n",
      "D66: min 710, max 8013, average 2378.7\n",
      "PvdA: min 524, max 5401, average 1844.6\n",
      "Noord-Brabant\n",
      "CDA: min 1065, max 10631, average 4181.0\n",
      "VVD: min 995, max 17503, average 5154.7\n",
      "D66: min 635, max 9918, average 3568.2\n",
      "PvdA: min 563, max 10180, average 2748.5\n"
     ]
    }
   ],
   "source": [
    "## Exercise 4: Voter turnout numbers\n",
    "import os\n",
    "import csv\n",
    "import json\n",
    "\n",
    "## For this, I think a function makes a lot of sense so that we don't use almost the same code two times (for Gelderland and Noord-Brabant).\n",
    "def get_answers(municipalitylist):\n",
    "    # There are several ways to go about this, but I find a list for each party might be the most intuitive.\n",
    "    cda = []\n",
    "    vvd = []\n",
    "    d66 = []\n",
    "    pvda = []\n",
    "    \n",
    "    # Each municipalitylist (= JSON file) contains a list of dictionaries, where each item in the list is a municipality.\n",
    "    for municipality in municipalitylist:\n",
    "        cda.append(municipality['CDA'])\n",
    "        vvd.append(municipality['VVD'])\n",
    "        d66.append(municipality['D66'])\n",
    "        pvda.append(municipality['PvdA'])\n",
    "    \n",
    "    print(f'CDA: min {min(cda)}, max {max(cda)}, average {sum(cda)/len(cda)}')\n",
    "    print(f'VVD: min {min(vvd)}, max {max(vvd)}, average {sum(vvd)/len(vvd)}')\n",
    "    print(f'D66: min {min(d66)}, max {max(d66)}, average {sum(d66)/len(d66)}')\n",
    "    print(f'PvdA: min {min(pvda)}, max {max(pvda)}, average {sum(pvda)/len(pvda)}')\n",
    "\n",
    "with open('./Gelderland.json', 'r') as infile:\n",
    "    gelderland_data = json.load(infile)\n",
    "\n",
    "    print('Gelderland')\n",
    "    get_answers(gelderland_data)\n",
    "\n",
    "\n",
    "with open('./Noord_Brabant.json', 'r') as infile:\n",
    "    nb_data = json.load(infile)\n",
    "\n",
    "    print('Noord-Brabant')\n",
    "    get_answers(nb_data)"
   ]
  },
  {
   "cell_type": "code",
   "execution_count": 21,
   "metadata": {},
   "outputs": [],
   "source": [
    "## Bonus Exercise 2 -- basically a copy of the exercise above, but then returning rows instead of printing the data\n",
    "import os\n",
    "import csv\n",
    "import json\n",
    "\n",
    "## For this, I think a function makes a lot of sense so that we don't use almost the same code two times (for Gelderland and Noord-Brabant).\n",
    "def get_answers(municipalitylist, municipalityname):\n",
    "    # There are several ways to go about this, but I find a list for each party might be the most intuitive.\n",
    "    cda = []\n",
    "    vvd = []\n",
    "    d66 = []\n",
    "    pvda = []\n",
    "    \n",
    "    # Each municipalitylist (= JSON file) contains a list of dictionaries, where each item in the list is a municipality.\n",
    "    for municipality in municipalitylist:\n",
    "        cda.append(municipality['CDA'])\n",
    "        vvd.append(municipality['VVD'])\n",
    "        d66.append(municipality['D66'])\n",
    "        pvda.append(municipality['PvdA'])\n",
    "\n",
    "    rows = []\n",
    "    cdarow = [municipalityname, 'CDA', min(cda), max(cda), sum(cda)/len(cda)]\n",
    "    vvdrow = [municipalityname, 'VVD', min(vvd), max(vvd), sum(vvd)/len(vvd)]\n",
    "    d66row = [municipalityname, 'D66', min(d66), max(d66), sum(d66)/len(d66)]\n",
    "    pvdarow = [municipalityname, 'PvdA', min(pvda), max(pvda), sum(pvda)/len(pvda)]\n",
    "\n",
    "    rows.append(cdarow)\n",
    "    rows.append(vvdrow)\n",
    "    rows.append(d66row)\n",
    "    rows.append(pvdarow)\n",
    "    \n",
    "    return rows    \n",
    "\n",
    "# Start building the CSV file in a list of lists\n",
    "csvdata = []\n",
    "colnames = ['Province', 'Party', 'Min', 'Max', 'Average']\n",
    "csvdata.append(colnames)\n",
    "\n",
    "with open('./Gelderland.json', 'r') as infile:\n",
    "    gelderland_data = json.load(infile)\n",
    "\n",
    "    row = get_answers(gelderland_data, 'Gelderland')\n",
    "    csvdata.extend(row)\n",
    "\n",
    "with open('./Noord_Brabant.json', 'r') as infile:\n",
    "    nb_data = json.load(infile)\n",
    "\n",
    "    row = get_answers(nb_data, 'Noord-Brabant')\n",
    "    csvdata.extend(row)\n",
    "\n",
    "# Save the resulting CSV file using the code from Code block 4\n",
    "with open('./Parties_statistics.csv', mode='w', newline='') as f:\n",
    "    writer = csv.writer(f)\n",
    "    #Iterate over every row in the records variable\n",
    "    for row in csvdata:\n",
    "        writer.writerow(row)"
   ]
  },
  {
   "cell_type": "markdown",
   "metadata": {
    "collapsed": false,
    "jupyter": {
     "outputs_hidden": false
    }
   },
   "source": [
    "**[Exercise 5]** For Exercise 2, you have used a CSV file that contains random words (`Random_Words.csv`). Create and save a JSON file where all these words are ordered by their first letter (in alphabetical order).\n",
    "You can find an example of what the output should look like on Canvas (`Worksheet_6_Exercise_5.json`)\n",
    "\n",
    "**Hint**: You may start with a dictionary that already contains all the letters in the alphabet, as is shown in the code below (the alphabetdict variable that is commented out).\n",
    "\n",
    "**[Bonus Exercise 3]** Do not use the alphabetdict, but try to find a clever way to create this dictionary structure from an empty dictionary (and sort it alphabetically). Also, order the words per letter from smallest to largest. You can find an example of what the output should look like on Canvas (`Worksheet_6_Bonus_3.json`)"
   ]
  },
  {
   "cell_type": "code",
   "execution_count": 23,
   "metadata": {
    "collapsed": false,
    "jupyter": {
     "outputs_hidden": false
    }
   },
   "outputs": [],
   "source": [
    "## Exercise 3: Ordering the Word CSV\n",
    "import os\n",
    "import json\n",
    "import csv\n",
    "\n",
    "alphabetdict = {'a': [], 'b': [], 'c': [], 'd': [], 'e': [], 'f': [], 'g': [], 'h': [], 'i': [], 'j': [], 'k': [], 'l': [], 'm': [], 'n': [], 'o': [], 'p': [], 'q': [], 'r': [], 's': [], 't': [], 'u': [], 'v': [], 'w': [], 'x': [], 'y': [], 'z': []}\n",
    "\n",
    "# We create a temporary list of records, which still contain multiple words.\n",
    "word_recs = []\n",
    "\n",
    "# Then we turn this previous list into a larger list, where each item is only one word.\n",
    "word_list = []\n",
    "\n",
    "# First load the CSV file that we will need, copying the basic code structure from the samples above.\n",
    "with open('./Random_Words.csv', mode='r') as f:\n",
    "    words_csv = csv.reader(f)\n",
    "    for record in words_csv:\n",
    "        word_recs.append(record)\n",
    "\n",
    "# Here we convert the list of records, into a list of individual words.\n",
    "# We do this by first looping through all of these records (rows) in the word_recs list,\n",
    "# then looping once more to get to the individual items for each individual row.\n",
    "for record in word_recs:\n",
    "    for word in record:\n",
    "        word_list.append(word)\n",
    "\n",
    "\n",
    "# Now we go through our list of words, and add them to the dictionary based on their first letter.\n",
    "for word in word_list:\n",
    "    alphabetdict[word[0]].append(word)\n",
    "\n",
    "# Save our collection as a new JSON file\n",
    "with open('./Worksheet_6_Exercise_5_2.json', 'w') as outfile:\n",
    "    json.dump(alphabetdict, outfile, separators=(',', ': '), indent=4)"
   ]
  },
  {
   "cell_type": "code",
   "execution_count": 25,
   "metadata": {},
   "outputs": [],
   "source": [
    "## Bonus Exercise 3\n",
    "import os\n",
    "import json\n",
    "import csv\n",
    "\n",
    "alphabetdict = {}\n",
    "\n",
    "# We create a temporary list of records, which still contain multiple words.\n",
    "word_recs = []\n",
    "\n",
    "# Then we turn this previous list into a larger list, where each item is only one word.\n",
    "word_list = []\n",
    "\n",
    "# First load the CSV file that we will need, copying the basic code structure from the samples above.\n",
    "with open('./Random_Words.csv', mode='r') as f:\n",
    "    words_csv = csv.reader(f)\n",
    "    for record in words_csv:\n",
    "        word_recs.append(record)\n",
    "\n",
    "# Here we convert the list of records, into a list of individual words.\n",
    "# We do this by first looping through all of these records (rows) in the word_recs list,\n",
    "# then looping once more to get to the individual items for each individual row.\n",
    "for record in word_recs:\n",
    "    for word in record:\n",
    "        word_list.append(word)\n",
    "\n",
    "# We add new keys when we encounter a key we have not seen before\n",
    "for word in word_list:\n",
    "    if word[0] in alphabetdict:\n",
    "        alphabetdict[word[0]].append(word)\n",
    "    else:\n",
    "        alphabetdict[word[0]] = [word]\n",
    "\n",
    "# Sort the values from smallest string to largest (I found this solution on Google)\n",
    "for key in alphabetdict:\n",
    "    alphabetdict[key].sort(key=len)\n",
    "\n",
    "# Sort the keys alphabetically\n",
    "sorted_alphabet = {}\n",
    "sorted_alphabetdictkeys = sorted(alphabetdict)\n",
    "\n",
    "for key in sorted_alphabetdictkeys:\n",
    "    sorted_alphabet[key] = alphabetdict[key]\n",
    "\n",
    "with open('./Worksheet_6_Bonus_Exercise_3_2.json', 'w') as outfile:\n",
    "    json.dump(sorted_alphabet, outfile, indent=4, separators=(',', ': '))"
   ]
  },
  {
   "cell_type": "markdown",
   "metadata": {
    "collapsed": false,
    "jupyter": {
     "outputs_hidden": false
    }
   },
   "source": [
    "That is all! If you run into any issues, do not forget to ask about this on the Discussion board, or during the Practical session!\n",
    "\n",
    "## Saving & Submitting\n",
    "\n",
    "Jupyter Notebook files save your work automatically. So you can hand in the file that you are currently looking at. If you don't want to take any risks, you can also use \"Save As\" to save a copy of the notebook. In any case, submit the Worksheet **via Canvas, Assignments**. Submission date: **18 March (23:59)**.\n",
    "\n",
    "## Skills & Further Resources\n",
    "\n",
    "This worksheet was about opening, modifying, and saving CSV/JSON files using Python.\n",
    "\n",
    "After working through it, you should be able to:\n",
    "\n",
    "1. understand how to open, modify, and save a CSV file\n",
    "2. understand how to open, modify, and save a JSON file\n",
    "\n",
    "If you want a bit more information on some of these topics, besides the chapters in Automate the Boring Stuff, I recommend:\n",
    "\n",
    "- How to Read and Write With CSV Files in Python: Ultimate Guide to Working With CSV Files in Data Science, by Harika Bonthu on [https://www.analyticsvidhya.com/blog/2021/08/python-tutorial-working-with-csv-file-for-data-science/](https://www.analyticsvidhya.com/blog/2021/08/python-tutorial-working-with-csv-file-for-data-science/)\n",
    "- The easy way to work with CSV, JSON, and XML in Python, by George Seif on: [https://towardsdatascience.com/the-easy-way-to-work-with-csv-json-and-xml-in-python-5056f9325ca9](https://towardsdatascience.com/the-easy-way-to-work-with-csv-json-and-xml-in-python-5056f9325ca9) (if you can't read the text on this website, try to open it in an incognito window).\n",
    "\n",
    "## Overview of new information\n",
    "\n",
    "| Python Code                |     does what     |\n",
    "|----------------------------|:-----------------:|\n",
    "| `csv.reader(f)`            |  Read a CSV file  |\n",
    "| `csv.writer()`             | Write a CSV file  |\n",
    "| `json.load()`              | Read a JSON file  |\n",
    "| `json.dump()`              | Write a JSON file |"
   ]
  }
 ],
 "metadata": {
  "kernelspec": {
   "display_name": "Python [conda env:base] *",
   "language": "python",
   "name": "conda-base-py"
  },
  "language_info": {
   "codemirror_mode": {
    "name": "ipython",
    "version": 3
   },
   "file_extension": ".py",
   "mimetype": "text/x-python",
   "name": "python",
   "nbconvert_exporter": "python",
   "pygments_lexer": "ipython3",
   "version": "3.12.7"
  }
 },
 "nbformat": 4,
 "nbformat_minor": 4
}
